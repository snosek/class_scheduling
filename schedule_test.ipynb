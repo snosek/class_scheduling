{
      "cells": [
            {
                  "cell_type": "code",
                  "execution_count": 1,
                  "metadata": {},
                  "outputs": [],
                  "source": [
                        "from backend.schedule import *"
                  ]
            },
            {
                  "cell_type": "code",
                  "execution_count": 2,
                  "metadata": {},
                  "outputs": [],
                  "source": [
                        "rooms = [\n",
                        "    Room(\"B9-F3\", 60, \"normal\"),\n",
                        "    Room(\"B9-F6\", 30, \"normal\"),\n",
                        "    Room(\"B9-F7\", 60, \"normal\"),\n",
                        "    Room(\"B9-F8\", 60, \"normal\"),\n",
                        "    Room(\"B9-51\", 30, \"laboratories\"),\n",
                        "    Room(\"B9-52\", 60, \"normal\"),\n",
                        "    Room(\"B9-53\", 30, \"laboratories\"),\n",
                        "    Room(\"B14-1.12\", 30, \"laboratories\"),\n",
                        "]"
                  ]
            },
            {
                  "cell_type": "code",
                  "execution_count": 3,
                  "metadata": {},
                  "outputs": [],
                  "source": [
                        "program = Data(\"program_testowy.xlsx\")"
                  ]
            },
            {
                  "cell_type": "code",
                  "execution_count": 4,
                  "metadata": {},
                  "outputs": [],
                  "source": [
                        "professors = program.create_professors()\n",
                        "courses = program.create_courses(professors)"
                  ]
            },
            {
                  "cell_type": "code",
                  "execution_count": 5,
                  "metadata": {},
                  "outputs": [
                        {
                              "name": "stdout",
                              "output_type": "stream",
                              "text": [
                                    "Roman Krasiukianis\n",
                                    "Marek Galewski\n",
                                    "Marek Bienias\n",
                                    "Włodzimierz Fechner\n",
                                    "Bogdan Balcerzak\n",
                                    "Szymon Głąb\n",
                                    "Agnieszka Drwalewska\n",
                                    "Jacek Rogowski\n",
                                    "Henryk Dębiński\n",
                                    "Daniel Arendt\n",
                                    "Błażej Dziuba\n",
                                    "Wojciech Kryszewski\n",
                                    "Michał Karbowańczyk\n",
                                    "Filip Strobin\n",
                                    "Adam Bryszewski\n"
                              ]
                        }
                  ],
                  "source": [
                        "for prof in professors:\n",
                        "    print(prof)"
                  ]
            },
            {
                  "cell_type": "code",
                  "execution_count": 6,
                  "metadata": {},
                  "outputs": [
                        {
                              "name": "stdout",
                              "output_type": "stream",
                              "text": [
                                    "Analiza_matematyczna_I\n",
                                    "Algebra_liniowa_z_geometrią_analityczną_I\n",
                                    "Technologie_informatyczne_I\n",
                                    "Wstęp_do_obliczeń_symbolicznych\n",
                                    "Wstęp_do_logiki_i_teorii_mnogości\n"
                              ]
                        }
                  ],
                  "source": [
                        "for course in courses:\n",
                        "    print(course)"
                  ]
            },
            {
                  "cell_type": "code",
                  "execution_count": 7,
                  "metadata": {},
                  "outputs": [
                        {
                              "name": "stdout",
                              "output_type": "stream",
                              "text": [
                                    "0\n",
                                    "Analiza_matematyczna_I\n",
                                    "1\n",
                                    "[60, 60, 0]\n",
                                    "Wojciech Kryszewski\n",
                                    "ID: 1. Imię i nazwisko prowadzącego: Marek Galewski\n",
                                    "ID: 3. Imię i nazwisko prowadzącego: Włodzimierz Fechner\n",
                                    "ID: 6. Imię i nazwisko prowadzącego: Agnieszka Drwalewska\n"
                              ]
                        }
                  ],
                  "source": [
                        "print(courses[0].id)\n",
                        "print(courses[0].name)\n",
                        "print(courses[0].semester)\n",
                        "print(courses[0].hours_per_semester)\n",
                        "print(courses[0].lecturer)\n",
                        "for prof in courses[0].professors:\n",
                        "    print(f\"ID: {prof.id}. Imię i nazwisko prowadzącego: {prof}\")"
                  ]
            },
            {
                  "cell_type": "code",
                  "execution_count": 8,
                  "metadata": {},
                  "outputs": [],
                  "source": [
                        "MS_sem_1_gr_1 = Students(1, 1, \"matematyka stosowana\")\n",
                        "MS_sem_1_gr_2 = Students(1, 2, \"matematyka stosowana\")\n",
                        "MS_sem_2_gr_1 = Students(2, 1, \"matematyka stosowana\")\n",
                        "MS_sem_2_gr_2 = Students(2, 2, \"matematyka stosowana\")\n",
                        "MS = [MS_sem_1_gr_1, MS_sem_1_gr_2]\n",
                        "AM_classes = courses[0].create_classes(MS)"
                  ]
            },
            {
                  "cell_type": "code",
                  "execution_count": 9,
                  "metadata": {},
                  "outputs": [
                        {
                              "name": "stdout",
                              "output_type": "stream",
                              "text": [
                                    "Wstęp_do_obliczeń_symbolicznych_laboratories_1_grp_1, None, Jacek Rogowski, None\n",
                                    "Wstęp_do_obliczeń_symbolicznych_laboratories_1_grp_2, None, Henryk Dębiński, None\n"
                              ]
                        }
                  ],
                  "source": [
                        "WdOS_classes = courses[-2].create_classes(MS)\n",
                        "for zajecia in WdOS_classes:\n",
                        "    print(zajecia)"
                  ]
            },
            {
                  "cell_type": "code",
                  "execution_count": 10,
                  "metadata": {},
                  "outputs": [
                        {
                              "name": "stdout",
                              "output_type": "stream",
                              "text": [
                                    "Analiza_matematyczna_I_lecture_1, None, Wojciech Kryszewski, None\n",
                                    "Analiza_matematyczna_I_lecture_2, None, Wojciech Kryszewski, None\n",
                                    "Analiza_matematyczna_I_practicals_1_grp_1, None, Marek Galewski, None\n",
                                    "Analiza_matematyczna_I_practicals_2_grp_1, None, Marek Galewski, None\n",
                                    "Analiza_matematyczna_I_practicals_1_grp_2, None, Włodzimierz Fechner, None\n",
                                    "Analiza_matematyczna_I_practicals_2_grp_2, None, Włodzimierz Fechner, None\n"
                              ]
                        }
                  ],
                  "source": [
                        "for zajecia in AM_classes:\n",
                        "    print(zajecia)"
                  ]
            },
            {
                  "cell_type": "code",
                  "execution_count": 11,
                  "metadata": {},
                  "outputs": [
                        {
                              "name": "stdout",
                              "output_type": "stream",
                              "text": [
                                    "Kierunek matematyka stosowana Semestr 1 Grupa 1\n"
                              ]
                        }
                  ],
                  "source": [
                        "for x in AM_classes[2].student_groups:\n",
                        "    print(x)"
                  ]
            },
            {
                  "cell_type": "code",
                  "execution_count": 12,
                  "metadata": {},
                  "outputs": [
                        {
                              "name": "stdout",
                              "output_type": "stream",
                              "text": [
                                    "Analiza_matematyczna_I_lecture_1, None, Wojciech Kryszewski, None\n",
                                    "Analiza_matematyczna_I_lecture_2, None, Wojciech Kryszewski, None\n",
                                    "Analiza_matematyczna_I_practicals_1_grp_1, None, Marek Galewski, None\n",
                                    "Analiza_matematyczna_I_practicals_2_grp_1, None, Marek Galewski, None\n",
                                    "Analiza_matematyczna_I_practicals_1_grp_2, None, Włodzimierz Fechner, None\n",
                                    "Analiza_matematyczna_I_practicals_2_grp_2, None, Włodzimierz Fechner, None\n",
                                    "Algebra_liniowa_z_geometrią_analityczną_I_lecture_1, None, Filip Strobin, None\n",
                                    "Algebra_liniowa_z_geometrią_analityczną_I_practicals_1_grp_1, None, Bogdan Balcerzak, None\n",
                                    "Algebra_liniowa_z_geometrią_analityczną_I_practicals_1_grp_2, None, Filip Strobin, None\n",
                                    "Technologie_informatyczne_I_laboratories_1_grp_1, None, Roman Krasiukianis, None\n",
                                    "Technologie_informatyczne_I_laboratories_1_grp_2, None, Daniel Arendt, None\n",
                                    "Wstęp_do_obliczeń_symbolicznych_laboratories_1_grp_1, None, Jacek Rogowski, None\n",
                                    "Wstęp_do_obliczeń_symbolicznych_laboratories_1_grp_2, None, Henryk Dębiński, None\n",
                                    "Wstęp_do_logiki_i_teorii_mnogości_lecture_1, None, Szymon Głąb, None\n",
                                    "Wstęp_do_logiki_i_teorii_mnogości_practicals_1_grp_1, None, Marek Bienias, None\n",
                                    "Wstęp_do_logiki_i_teorii_mnogości_practicals_1_grp_2, None, Szymon Głąb, None\n"
                              ]
                        }
                  ],
                  "source": [
                        "schedule1 = Schedule(professors, courses, rooms, MS)\n",
                        "for item in schedule1.classes:\n",
                        "    print(item)"
                  ]
            },
            {
                  "cell_type": "code",
                  "execution_count": 13,
                  "metadata": {},
                  "outputs": [
                        {
                              "name": "stdout",
                              "output_type": "stream",
                              "text": [
                                    "Analiza_matematyczna_I_lecture_1, B9-F6, Wojciech Kryszewski, Day: 3, hour: 0\n",
                                    "Analiza_matematyczna_I_lecture_2, B9-F3, Wojciech Kryszewski, Day: 1, hour: 1\n",
                                    "Analiza_matematyczna_I_practicals_1_grp_1, B9-F7, Marek Galewski, Day: 3, hour: 1\n",
                                    "Analiza_matematyczna_I_practicals_2_grp_1, B9-F8, Marek Galewski, Day: 2, hour: 1\n",
                                    "Analiza_matematyczna_I_practicals_1_grp_2, B9-F6, Włodzimierz Fechner, Day: 1, hour: 2\n",
                                    "Analiza_matematyczna_I_practicals_2_grp_2, B9-F3, Włodzimierz Fechner, Day: 4, hour: 4\n",
                                    "Algebra_liniowa_z_geometrią_analityczną_I_lecture_1, B9-52, Filip Strobin, Day: 0, hour: 2\n",
                                    "Algebra_liniowa_z_geometrią_analityczną_I_practicals_1_grp_1, B9-F6, Bogdan Balcerzak, Day: 2, hour: 5\n",
                                    "Algebra_liniowa_z_geometrią_analityczną_I_practicals_1_grp_2, B9-F7, Filip Strobin, Day: 2, hour: 4\n",
                                    "Technologie_informatyczne_I_laboratories_1_grp_1, B14-1.12, Roman Krasiukianis, Day: 0, hour: 3\n",
                                    "Technologie_informatyczne_I_laboratories_1_grp_2, B9-51, Daniel Arendt, Day: 4, hour: 3\n",
                                    "Wstęp_do_obliczeń_symbolicznych_laboratories_1_grp_1, B14-1.12, Jacek Rogowski, Day: 4, hour: 4\n",
                                    "Wstęp_do_obliczeń_symbolicznych_laboratories_1_grp_2, B9-51, Henryk Dębiński, Day: 2, hour: 5\n",
                                    "Wstęp_do_logiki_i_teorii_mnogości_lecture_1, B9-F8, Szymon Głąb, Day: 0, hour: 3\n",
                                    "Wstęp_do_logiki_i_teorii_mnogości_practicals_1_grp_1, B9-F6, Marek Bienias, Day: 2, hour: 2\n",
                                    "Wstęp_do_logiki_i_teorii_mnogości_practicals_1_grp_2, B9-F7, Szymon Głąb, Day: 1, hour: 0\n"
                              ]
                        }
                  ],
                  "source": [
                        "schedule1.random_schedule()\n",
                        "for item in schedule1.classes:\n",
                        "    print(item)"
                  ]
            },
            {
                  "cell_type": "code",
                  "execution_count": 14,
                  "metadata": {},
                  "outputs": [
                        {
                              "name": "stdout",
                              "output_type": "stream",
                              "text": [
                                    "Kierunek matematyka stosowana Semestr 1 Grupa 1:\n",
                                    "Analiza_matematyczna_I_lecture_1, B9-F6, Wojciech Kryszewski, Day: 3, hour: 0\n",
                                    "Analiza_matematyczna_I_lecture_2, B9-F3, Wojciech Kryszewski, Day: 1, hour: 1\n",
                                    "Analiza_matematyczna_I_practicals_1_grp_1, B9-F7, Marek Galewski, Day: 3, hour: 1\n",
                                    "Analiza_matematyczna_I_practicals_2_grp_1, B9-F8, Marek Galewski, Day: 2, hour: 1\n",
                                    "Algebra_liniowa_z_geometrią_analityczną_I_lecture_1, B9-52, Filip Strobin, Day: 0, hour: 2\n",
                                    "Algebra_liniowa_z_geometrią_analityczną_I_practicals_1_grp_1, B9-F6, Bogdan Balcerzak, Day: 2, hour: 5\n",
                                    "Technologie_informatyczne_I_laboratories_1_grp_1, B14-1.12, Roman Krasiukianis, Day: 0, hour: 3\n",
                                    "Wstęp_do_obliczeń_symbolicznych_laboratories_1_grp_1, B14-1.12, Jacek Rogowski, Day: 4, hour: 4\n",
                                    "Wstęp_do_logiki_i_teorii_mnogości_lecture_1, B9-F8, Szymon Głąb, Day: 0, hour: 3\n",
                                    "Wstęp_do_logiki_i_teorii_mnogości_practicals_1_grp_1, B9-F6, Marek Bienias, Day: 2, hour: 2\n",
                                    " \n",
                                    "Kierunek matematyka stosowana Semestr 1 Grupa 2:\n",
                                    "Analiza_matematyczna_I_lecture_1, B9-F6, Wojciech Kryszewski, Day: 3, hour: 0\n",
                                    "Analiza_matematyczna_I_lecture_2, B9-F3, Wojciech Kryszewski, Day: 1, hour: 1\n",
                                    "Analiza_matematyczna_I_practicals_1_grp_2, B9-F6, Włodzimierz Fechner, Day: 1, hour: 2\n",
                                    "Analiza_matematyczna_I_practicals_2_grp_2, B9-F3, Włodzimierz Fechner, Day: 4, hour: 4\n",
                                    "Algebra_liniowa_z_geometrią_analityczną_I_lecture_1, B9-52, Filip Strobin, Day: 0, hour: 2\n",
                                    "Algebra_liniowa_z_geometrią_analityczną_I_practicals_1_grp_2, B9-F7, Filip Strobin, Day: 2, hour: 4\n",
                                    "Technologie_informatyczne_I_laboratories_1_grp_2, B9-51, Daniel Arendt, Day: 4, hour: 3\n",
                                    "Wstęp_do_obliczeń_symbolicznych_laboratories_1_grp_2, B9-51, Henryk Dębiński, Day: 2, hour: 5\n",
                                    "Wstęp_do_logiki_i_teorii_mnogości_lecture_1, B9-F8, Szymon Głąb, Day: 0, hour: 3\n",
                                    "Wstęp_do_logiki_i_teorii_mnogości_practicals_1_grp_2, B9-F7, Szymon Głąb, Day: 1, hour: 0\n",
                                    " \n"
                              ]
                        }
                  ],
                  "source": [
                        "for i in range(len(MS)):\n",
                        "    print(f\"{MS[i]}:\")\n",
                        "    for item in schedule1.schedule[i]:\n",
                        "        print(item)\n",
                        "    print(\" \")"
                  ]
            }
      ],
      "metadata": {
            "kernelspec": {
                  "display_name": ".venv",
                  "language": "python",
                  "name": "python3"
            },
            "language_info": {
                  "codemirror_mode": {
                        "name": "ipython",
                        "version": 3
                  },
                  "file_extension": ".py",
                  "mimetype": "text/x-python",
                  "name": "python",
                  "nbconvert_exporter": "python",
                  "pygments_lexer": "ipython3",
                  "version": "3.11.6"
            }
      },
      "nbformat": 4,
      "nbformat_minor": 2
}

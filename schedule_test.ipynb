{
      "cells": [
            {
                  "cell_type": "code",
                  "execution_count": 16,
                  "metadata": {},
                  "outputs": [],
                  "source": [
                        "from backend.schedule import *"
                  ]
            },
            {
                  "cell_type": "code",
                  "execution_count": 17,
                  "metadata": {},
                  "outputs": [],
                  "source": [
                        "rooms = [\n",
                        "    Room(\"B9-F3\", 60, \"normal\"),\n",
                        "    Room(\"B9-F6\", 30, \"normal\"),\n",
                        "    Room(\"B9-F7\", 60, \"normal\"),\n",
                        "    Room(\"B9-F8\", 60, \"normal\"),\n",
                        "    Room(\"B9-51\", 30, \"laboratories\"),\n",
                        "    Room(\"B9-52\", 60, \"normal\"),\n",
                        "    Room(\"B9-53\", 30, \"laboratories\"),\n",
                        "    Room(\"B14-1.12\", 30, \"laboratories\"),\n",
                        "]"
                  ]
            },
            {
                  "cell_type": "code",
                  "execution_count": 18,
                  "metadata": {},
                  "outputs": [],
                  "source": [
                        "program = Data(\"program_testowy.xlsx\")"
                  ]
            },
            {
                  "cell_type": "code",
                  "execution_count": 19,
                  "metadata": {},
                  "outputs": [],
                  "source": [
                        "professors = program.create_professors()\n",
                        "courses = program.create_courses(professors)"
                  ]
            },
            {
                  "cell_type": "code",
                  "execution_count": 20,
                  "metadata": {},
                  "outputs": [
                        {
                              "name": "stdout",
                              "output_type": "stream",
                              "text": [
                                    "Jacek Rogowski\n",
                                    "Roman Krasiukianis\n",
                                    "Błażej Dziuba\n",
                                    "Bogdan Balcerzak\n",
                                    "Szymon Głąb\n",
                                    "Marek Galewski\n",
                                    "Adam Bryszewski\n",
                                    "Henryk Dębiński\n",
                                    "Michał Karbowańczyk\n",
                                    "Daniel Arendt\n",
                                    "Filip Strobin\n",
                                    "Agnieszka Drwalewska\n",
                                    "Marek Bienias\n",
                                    "Włodzimierz Fechner\n",
                                    "Wojciech Kryszewski\n"
                              ]
                        }
                  ],
                  "source": [
                        "for prof in professors:\n",
                        "    print(prof)"
                  ]
            },
            {
                  "cell_type": "code",
                  "execution_count": 21,
                  "metadata": {},
                  "outputs": [
                        {
                              "name": "stdout",
                              "output_type": "stream",
                              "text": [
                                    "Analiza_matematyczna_I\n",
                                    "Algebra_liniowa_z_geometrią_analityczną_I\n",
                                    "Technologie_informatyczne_I\n",
                                    "Wstęp_do_obliczeń_symbolicznych\n",
                                    "Wstęp_do_logiki_i_teorii_mnogości\n"
                              ]
                        }
                  ],
                  "source": [
                        "for course in courses:\n",
                        "    print(course)"
                  ]
            },
            {
                  "cell_type": "code",
                  "execution_count": 22,
                  "metadata": {},
                  "outputs": [
                        {
                              "name": "stdout",
                              "output_type": "stream",
                              "text": [
                                    "0\n",
                                    "Analiza_matematyczna_I\n",
                                    "1\n",
                                    "[60, 60, 0]\n",
                                    "Wojciech Kryszewski\n",
                                    "ID: 5. Imię i nazwisko prowadzącego: Marek Galewski\n",
                                    "ID: 11. Imię i nazwisko prowadzącego: Agnieszka Drwalewska\n",
                                    "ID: 13. Imię i nazwisko prowadzącego: Włodzimierz Fechner\n"
                              ]
                        }
                  ],
                  "source": [
                        "print(courses[0].id)\n",
                        "print(courses[0].name)\n",
                        "print(courses[0].semester)\n",
                        "print(courses[0].hours_per_semester)\n",
                        "print(courses[0].lecturer)\n",
                        "for prof in courses[0].professors:\n",
                        "    print(f\"ID: {prof.id}. Imię i nazwisko prowadzącego: {prof}\")"
                  ]
            },
            {
                  "cell_type": "code",
                  "execution_count": 23,
                  "metadata": {},
                  "outputs": [],
                  "source": [
                        "MS_sem_1_gr_1 = Students(1, 1, \"matematyka stosowana\")\n",
                        "MS_sem_1_gr_2 = Students(1, 2, \"matematyka stosowana\")\n",
                        "MS_sem_2_gr_1 = Students(2, 1, \"matematyka stosowana\")\n",
                        "MS_sem_2_gr_2 = Students(2, 2, \"matematyka stosowana\")\n",
                        "MS = [MS_sem_1_gr_1, MS_sem_1_gr_2, MS_sem_2_gr_1, MS_sem_2_gr_2]"
                  ]
            },
            {
                  "cell_type": "code",
                  "execution_count": 24,
                  "metadata": {},
                  "outputs": [
                        {
                              "name": "stdout",
                              "output_type": "stream",
                              "text": [
                                    "Analiza_matematyczna_I_lecture_1, None, Wojciech Kryszewski, None\n",
                                    "Analiza_matematyczna_I_lecture_2, None, Wojciech Kryszewski, None\n",
                                    "Analiza_matematyczna_I_practicals_1_grp_1, None, Marek Galewski, None\n",
                                    "Analiza_matematyczna_I_practicals_2_grp_1, None, Marek Galewski, None\n",
                                    "Analiza_matematyczna_I_practicals_1_grp_2, None, Agnieszka Drwalewska, None\n",
                                    "Analiza_matematyczna_I_practicals_2_grp_2, None, Agnieszka Drwalewska, None\n",
                                    "Algebra_liniowa_z_geometrią_analityczną_I_lecture_1, None, Filip Strobin, None\n",
                                    "Algebra_liniowa_z_geometrią_analityczną_I_practicals_1_grp_1, None, Bogdan Balcerzak, None\n",
                                    "Algebra_liniowa_z_geometrią_analityczną_I_practicals_1_grp_2, None, Filip Strobin, None\n",
                                    "Technologie_informatyczne_I_laboratories_1_grp_1, None, Roman Krasiukianis, None\n",
                                    "Technologie_informatyczne_I_laboratories_1_grp_2, None, Błażej Dziuba, None\n",
                                    "Wstęp_do_obliczeń_symbolicznych_laboratories_1_grp_1, None, Jacek Rogowski, None\n",
                                    "Wstęp_do_obliczeń_symbolicznych_laboratories_1_grp_2, None, Henryk Dębiński, None\n",
                                    "Wstęp_do_logiki_i_teorii_mnogości_lecture_1, None, Szymon Głąb, None\n",
                                    "Wstęp_do_logiki_i_teorii_mnogości_practicals_1_grp_1, None, Szymon Głąb, None\n",
                                    "Wstęp_do_logiki_i_teorii_mnogości_practicals_1_grp_2, None, Marek Bienias, None\n"
                              ]
                        }
                  ],
                  "source": [
                        "schedule1 = Schedule(professors, courses, rooms, MS)\n",
                        "for item in schedule1.classes:\n",
                        "    print(item)"
                  ]
            },
            {
                  "cell_type": "code",
                  "execution_count": 25,
                  "metadata": {},
                  "outputs": [
                        {
                              "name": "stdout",
                              "output_type": "stream",
                              "text": [
                                    "Analiza_matematyczna_I_lecture_1, B9-52, Wojciech Kryszewski, Day: 2, hour: 0\n",
                                    "Analiza_matematyczna_I_lecture_2, B9-F7, Wojciech Kryszewski, Day: 1, hour: 4\n",
                                    "Analiza_matematyczna_I_practicals_1_grp_1, B9-F8, Marek Galewski, Day: 0, hour: 1\n",
                                    "Analiza_matematyczna_I_practicals_2_grp_1, B9-52, Marek Galewski, Day: 3, hour: 0\n",
                                    "Analiza_matematyczna_I_practicals_1_grp_2, B9-F3, Agnieszka Drwalewska, Day: 1, hour: 3\n",
                                    "Analiza_matematyczna_I_practicals_2_grp_2, B9-52, Agnieszka Drwalewska, Day: 3, hour: 0\n",
                                    "Algebra_liniowa_z_geometrią_analityczną_I_lecture_1, B9-52, Filip Strobin, Day: 1, hour: 2\n",
                                    "Algebra_liniowa_z_geometrią_analityczną_I_practicals_1_grp_1, B9-F8, Bogdan Balcerzak, Day: 4, hour: 2\n",
                                    "Algebra_liniowa_z_geometrią_analityczną_I_practicals_1_grp_2, B9-F8, Filip Strobin, Day: 4, hour: 5\n",
                                    "Technologie_informatyczne_I_laboratories_1_grp_1, B14-1.12, Roman Krasiukianis, Day: 2, hour: 1\n",
                                    "Technologie_informatyczne_I_laboratories_1_grp_2, B14-1.12, Błażej Dziuba, Day: 4, hour: 4\n",
                                    "Wstęp_do_obliczeń_symbolicznych_laboratories_1_grp_1, B9-53, Jacek Rogowski, Day: 0, hour: 4\n",
                                    "Wstęp_do_obliczeń_symbolicznych_laboratories_1_grp_2, B14-1.12, Henryk Dębiński, Day: 0, hour: 4\n",
                                    "Wstęp_do_logiki_i_teorii_mnogości_lecture_1, B9-52, Szymon Głąb, Day: 2, hour: 2\n",
                                    "Wstęp_do_logiki_i_teorii_mnogości_practicals_1_grp_1, B9-F3, Szymon Głąb, Day: 0, hour: 3\n",
                                    "Wstęp_do_logiki_i_teorii_mnogości_practicals_1_grp_2, B9-F3, Marek Bienias, Day: 3, hour: 5\n"
                              ]
                        }
                  ],
                  "source": [
                        "schedule1.random_schedule()\n",
                        "for item in schedule1.classes:\n",
                        "    print(item)"
                  ]
            },
            {
                  "cell_type": "code",
                  "execution_count": 26,
                  "metadata": {},
                  "outputs": [
                        {
                              "name": "stdout",
                              "output_type": "stream",
                              "text": [
                                    "Kierunek matematyka stosowana Semestr 1 Grupa 1:\n",
                                    "Analiza_matematyczna_I_lecture_1, B9-52, Wojciech Kryszewski, Day: 2, hour: 0\n",
                                    "Analiza_matematyczna_I_lecture_2, B9-F7, Wojciech Kryszewski, Day: 1, hour: 4\n",
                                    "Algebra_liniowa_z_geometrią_analityczną_I_lecture_1, B9-52, Filip Strobin, Day: 1, hour: 2\n",
                                    "Wstęp_do_logiki_i_teorii_mnogości_lecture_1, B9-52, Szymon Głąb, Day: 2, hour: 2\n",
                                    "Analiza_matematyczna_I_practicals_1_grp_1, B9-F8, Marek Galewski, Day: 0, hour: 1\n",
                                    "Analiza_matematyczna_I_practicals_2_grp_1, B9-52, Marek Galewski, Day: 3, hour: 0\n",
                                    "Algebra_liniowa_z_geometrią_analityczną_I_practicals_1_grp_1, B9-F8, Bogdan Balcerzak, Day: 4, hour: 2\n",
                                    "Technologie_informatyczne_I_laboratories_1_grp_1, B14-1.12, Roman Krasiukianis, Day: 2, hour: 1\n",
                                    "Wstęp_do_obliczeń_symbolicznych_laboratories_1_grp_1, B9-53, Jacek Rogowski, Day: 0, hour: 4\n",
                                    "Wstęp_do_logiki_i_teorii_mnogości_practicals_1_grp_1, B9-F3, Szymon Głąb, Day: 0, hour: 3\n",
                                    " \n",
                                    "Kierunek matematyka stosowana Semestr 1 Grupa 2:\n",
                                    "Analiza_matematyczna_I_lecture_1, B9-52, Wojciech Kryszewski, Day: 2, hour: 0\n",
                                    "Analiza_matematyczna_I_lecture_2, B9-F7, Wojciech Kryszewski, Day: 1, hour: 4\n",
                                    "Algebra_liniowa_z_geometrią_analityczną_I_lecture_1, B9-52, Filip Strobin, Day: 1, hour: 2\n",
                                    "Wstęp_do_logiki_i_teorii_mnogości_lecture_1, B9-52, Szymon Głąb, Day: 2, hour: 2\n",
                                    "Analiza_matematyczna_I_practicals_1_grp_2, B9-F3, Agnieszka Drwalewska, Day: 1, hour: 3\n",
                                    "Analiza_matematyczna_I_practicals_2_grp_2, B9-52, Agnieszka Drwalewska, Day: 3, hour: 0\n",
                                    "Algebra_liniowa_z_geometrią_analityczną_I_practicals_1_grp_2, B9-F8, Filip Strobin, Day: 4, hour: 5\n",
                                    "Technologie_informatyczne_I_laboratories_1_grp_2, B14-1.12, Błażej Dziuba, Day: 4, hour: 4\n",
                                    "Wstęp_do_obliczeń_symbolicznych_laboratories_1_grp_2, B14-1.12, Henryk Dębiński, Day: 0, hour: 4\n",
                                    "Wstęp_do_logiki_i_teorii_mnogości_practicals_1_grp_2, B9-F3, Marek Bienias, Day: 3, hour: 5\n",
                                    " \n",
                                    "Kierunek matematyka stosowana Semestr 2 Grupa 1:\n",
                                    " \n",
                                    "Kierunek matematyka stosowana Semestr 2 Grupa 2:\n",
                                    " \n"
                              ]
                        }
                  ],
                  "source": [
                        "for i in range(len(MS)):\n",
                        "    print(f\"{MS[i]}:\")\n",
                        "    for item in schedule1.schedule[i]:\n",
                        "        print(item)\n",
                        "    print(\" \")"
                  ]
            },
            {
                  "cell_type": "code",
                  "execution_count": 27,
                  "metadata": {},
                  "outputs": [
                        {
                              "name": "stdout",
                              "output_type": "stream",
                              "text": [
                                    "Zajęcia dla profesora Jacek Rogowski:\n",
                                    "Wstęp_do_obliczeń_symbolicznych_laboratories_1_grp_1, B9-53, Jacek Rogowski, Day: 0, hour: 4\n",
                                    "Zajęcia dla profesora Roman Krasiukianis:\n",
                                    "Technologie_informatyczne_I_laboratories_1_grp_1, B14-1.12, Roman Krasiukianis, Day: 2, hour: 1\n",
                                    "Zajęcia dla profesora Błażej Dziuba:\n",
                                    "Technologie_informatyczne_I_laboratories_1_grp_2, B14-1.12, Błażej Dziuba, Day: 4, hour: 4\n",
                                    "Zajęcia dla profesora Bogdan Balcerzak:\n",
                                    "Algebra_liniowa_z_geometrią_analityczną_I_practicals_1_grp_1, B9-F8, Bogdan Balcerzak, Day: 4, hour: 2\n",
                                    "Zajęcia dla profesora Szymon Głąb:\n",
                                    "Wstęp_do_logiki_i_teorii_mnogości_lecture_1, B9-52, Szymon Głąb, Day: 2, hour: 2\n",
                                    "Wstęp_do_logiki_i_teorii_mnogości_practicals_1_grp_1, B9-F3, Szymon Głąb, Day: 0, hour: 3\n",
                                    "Zajęcia dla profesora Marek Galewski:\n",
                                    "Analiza_matematyczna_I_practicals_1_grp_1, B9-F8, Marek Galewski, Day: 0, hour: 1\n",
                                    "Analiza_matematyczna_I_practicals_2_grp_1, B9-52, Marek Galewski, Day: 3, hour: 0\n",
                                    "Zajęcia dla profesora Adam Bryszewski:\n",
                                    "Zajęcia dla profesora Henryk Dębiński:\n",
                                    "Wstęp_do_obliczeń_symbolicznych_laboratories_1_grp_2, B14-1.12, Henryk Dębiński, Day: 0, hour: 4\n",
                                    "Zajęcia dla profesora Michał Karbowańczyk:\n",
                                    "Zajęcia dla profesora Daniel Arendt:\n",
                                    "Zajęcia dla profesora Filip Strobin:\n",
                                    "Algebra_liniowa_z_geometrią_analityczną_I_lecture_1, B9-52, Filip Strobin, Day: 1, hour: 2\n",
                                    "Algebra_liniowa_z_geometrią_analityczną_I_practicals_1_grp_2, B9-F8, Filip Strobin, Day: 4, hour: 5\n",
                                    "Zajęcia dla profesora Agnieszka Drwalewska:\n",
                                    "Analiza_matematyczna_I_practicals_1_grp_2, B9-F3, Agnieszka Drwalewska, Day: 1, hour: 3\n",
                                    "Analiza_matematyczna_I_practicals_2_grp_2, B9-52, Agnieszka Drwalewska, Day: 3, hour: 0\n",
                                    "Zajęcia dla profesora Marek Bienias:\n",
                                    "Wstęp_do_logiki_i_teorii_mnogości_practicals_1_grp_2, B9-F3, Marek Bienias, Day: 3, hour: 5\n",
                                    "Zajęcia dla profesora Włodzimierz Fechner:\n",
                                    "Zajęcia dla profesora Wojciech Kryszewski:\n",
                                    "Analiza_matematyczna_I_lecture_1, B9-52, Wojciech Kryszewski, Day: 2, hour: 0\n",
                                    "Analiza_matematyczna_I_lecture_2, B9-F7, Wojciech Kryszewski, Day: 1, hour: 4\n"
                              ]
                        }
                  ],
                  "source": [
                        "for professor in schedule1.professors:\n",
                        "    print(f\"Zajęcia dla profesora {professor}:\")\n",
                        "    for item in schedule1.classes:\n",
                        "        if item.professor == professor:\n",
                        "            print(item)"
                  ]
            },
            {
                  "cell_type": "code",
                  "execution_count": 28,
                  "metadata": {},
                  "outputs": [
                        {
                              "name": "stdout",
                              "output_type": "stream",
                              "text": [
                                    "Zajęcia dla sali B9-F3:\n",
                                    "Analiza_matematyczna_I_practicals_1_grp_2, B9-F3, Agnieszka Drwalewska, Day: 1, hour: 3\n",
                                    "Wstęp_do_logiki_i_teorii_mnogości_practicals_1_grp_1, B9-F3, Szymon Głąb, Day: 0, hour: 3\n",
                                    "Wstęp_do_logiki_i_teorii_mnogości_practicals_1_grp_2, B9-F3, Marek Bienias, Day: 3, hour: 5\n",
                                    "Zajęcia dla sali B9-F6:\n",
                                    "Zajęcia dla sali B9-F7:\n",
                                    "Analiza_matematyczna_I_lecture_2, B9-F7, Wojciech Kryszewski, Day: 1, hour: 4\n",
                                    "Zajęcia dla sali B9-F8:\n",
                                    "Analiza_matematyczna_I_practicals_1_grp_1, B9-F8, Marek Galewski, Day: 0, hour: 1\n",
                                    "Algebra_liniowa_z_geometrią_analityczną_I_practicals_1_grp_1, B9-F8, Bogdan Balcerzak, Day: 4, hour: 2\n",
                                    "Algebra_liniowa_z_geometrią_analityczną_I_practicals_1_grp_2, B9-F8, Filip Strobin, Day: 4, hour: 5\n",
                                    "Zajęcia dla sali B9-51:\n",
                                    "Zajęcia dla sali B9-52:\n",
                                    "Analiza_matematyczna_I_lecture_1, B9-52, Wojciech Kryszewski, Day: 2, hour: 0\n",
                                    "Analiza_matematyczna_I_practicals_2_grp_1, B9-52, Marek Galewski, Day: 3, hour: 0\n",
                                    "Analiza_matematyczna_I_practicals_2_grp_2, B9-52, Agnieszka Drwalewska, Day: 3, hour: 0\n",
                                    "Algebra_liniowa_z_geometrią_analityczną_I_lecture_1, B9-52, Filip Strobin, Day: 1, hour: 2\n",
                                    "Wstęp_do_logiki_i_teorii_mnogości_lecture_1, B9-52, Szymon Głąb, Day: 2, hour: 2\n",
                                    "Zajęcia dla sali B9-53:\n",
                                    "Wstęp_do_obliczeń_symbolicznych_laboratories_1_grp_1, B9-53, Jacek Rogowski, Day: 0, hour: 4\n",
                                    "Zajęcia dla sali B14-1.12:\n",
                                    "Technologie_informatyczne_I_laboratories_1_grp_1, B14-1.12, Roman Krasiukianis, Day: 2, hour: 1\n",
                                    "Technologie_informatyczne_I_laboratories_1_grp_2, B14-1.12, Błażej Dziuba, Day: 4, hour: 4\n",
                                    "Wstęp_do_obliczeń_symbolicznych_laboratories_1_grp_2, B14-1.12, Henryk Dębiński, Day: 0, hour: 4\n"
                              ]
                        }
                  ],
                  "source": [
                        "for room in schedule1.rooms:\n",
                        "    print(f\"Zajęcia dla sali {room}:\")\n",
                        "    for item in schedule1.classes:\n",
                        "        if item.room == room:\n",
                        "            print(item)"
                  ]
            },
            {
                  "cell_type": "code",
                  "execution_count": 29,
                  "metadata": {},
                  "outputs": [
                        {
                              "name": "stdout",
                              "output_type": "stream",
                              "text": [
                                    "2\n"
                              ]
                        }
                  ],
                  "source": [
                        "schedule1.calculate_and_set_number_of_conflicts()\n",
                        "print(schedule1.number_of_conflicts)"
                  ]
            },
            {
                  "cell_type": "code",
                  "execution_count": 30,
                  "metadata": {},
                  "outputs": [],
                  "source": [
                        "schedule1.visualize_groups(\"plan_dla_studentow\")"
                  ]
            }
      ],
      "metadata": {
            "kernelspec": {
                  "display_name": ".venv",
                  "language": "python",
                  "name": "python3"
            },
            "language_info": {
                  "codemirror_mode": {
                        "name": "ipython",
                        "version": 3
                  },
                  "file_extension": ".py",
                  "mimetype": "text/x-python",
                  "name": "python",
                  "nbconvert_exporter": "python",
                  "pygments_lexer": "ipython3",
                  "version": "3.12.1"
            }
      },
      "nbformat": 4,
      "nbformat_minor": 2
}

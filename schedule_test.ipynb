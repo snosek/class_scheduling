{
 "cells": [
  {
   "cell_type": "code",
   "execution_count": 1,
   "metadata": {},
   "outputs": [],
   "source": [
    "from backend.schedule import *"
   ]
  },
  {
   "cell_type": "code",
   "execution_count": 2,
   "metadata": {},
   "outputs": [],
   "source": [
    "B9_F3 = Room(\"B9-F3\", 60, \"normal\")\n",
    "B9_F6 = Room(\"B9-F6\", 30, \"normal\")\n",
    "B9_F7 = Room(\"B9-F7\", 60, \"normal\")\n",
    "B9_F8 = Room(\"B9-F8\", 60, \"normal\")\n",
    "B9_51 = Room(\"B9-51\", 20, \"lab\")\n",
    "B9_52 = Room(\"B9-52\", 60, \"normal\")\n",
    "B9_53 = Room(\"53\", 30, \"lab\")\n",
    "B14_1_12 = Room(\"B14-1.12\", 30, \"lab\")"
   ]
  },
  {
   "cell_type": "code",
   "execution_count": 3,
   "metadata": {},
   "outputs": [],
   "source": [
    "program = Data(\"program_testowy.xlsx\")"
   ]
  },
  {
   "cell_type": "code",
   "execution_count": 4,
   "metadata": {},
   "outputs": [],
   "source": [
    "courses = program.create_courses()"
   ]
  },
  {
   "cell_type": "code",
   "execution_count": 5,
   "metadata": {},
   "outputs": [
    {
     "name": "stdout",
     "output_type": "stream",
     "text": [
      "Analiza matematyczna I\n",
      "Algebra liniowa z geometrią analityczną I\n",
      "Technologie informatyczne I\n",
      "Wstęp do obliczeń symbolicznych\n",
      "Wstęp do logiki i teorii mnogości\n"
     ]
    }
   ],
   "source": [
    "for course in courses:\n",
    "    print(course)"
   ]
  },
  {
   "cell_type": "code",
   "execution_count": 6,
   "metadata": {},
   "outputs": [
    {
     "name": "stdout",
     "output_type": "stream",
     "text": [
      "0\n",
      "Analiza matematyczna I\n",
      "1\n",
      "[60, 60, 0]\n",
      "None\n",
      "None\n"
     ]
    }
   ],
   "source": [
    "print(courses[0].id)\n",
    "print(courses[0].name)\n",
    "print(courses[0].semester)\n",
    "print(courses[0].hours_per_semester)\n",
    "print(courses[0].lecturer)\n",
    "print(courses[0].professors)"
   ]
  }
 ],
 "metadata": {
  "kernelspec": {
   "display_name": ".venv",
   "language": "python",
   "name": "python3"
  },
  "language_info": {
   "codemirror_mode": {
    "name": "ipython",
    "version": 3
   },
   "file_extension": ".py",
   "mimetype": "text/x-python",
   "name": "python",
   "nbconvert_exporter": "python",
   "pygments_lexer": "ipython3",
   "version": "3.11.6"
  }
 },
 "nbformat": 4,
 "nbformat_minor": 2
}

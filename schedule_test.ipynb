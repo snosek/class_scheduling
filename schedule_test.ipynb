{
 "cells": [
  {
   "cell_type": "code",
   "execution_count": 1,
   "metadata": {},
   "outputs": [],
   "source": [
    "from backend.schedule import *"
   ]
  },
  {
   "cell_type": "code",
   "execution_count": 2,
   "metadata": {},
   "outputs": [],
   "source": [
    "B9_F3 = Room(\"B9-F3\", 60, \"normal\")\n",
    "B9_F6 = Room(\"B9-F6\", 30, \"normal\")\n",
    "B9_F7 = Room(\"B9-F7\", 60, \"normal\")\n",
    "B9_F8 = Room(\"B9-F8\", 60, \"normal\")\n",
    "B9_51 = Room(\"B9-51\", 20, \"lab\")\n",
    "B9_52 = Room(\"B9-52\", 60, \"normal\")\n",
    "B9_53 = Room(\"53\", 30, \"lab\")\n",
    "B14_1_12 = Room(\"B14-1.12\", 30, \"lab\")"
   ]
  },
  {
   "cell_type": "code",
   "execution_count": 3,
   "metadata": {},
   "outputs": [],
   "source": [
    "program = Data(\"program_testowy.xlsx\")"
   ]
  },
  {
   "cell_type": "code",
   "execution_count": 4,
   "metadata": {},
   "outputs": [],
   "source": [
    "professors = program.create_professors()\n",
    "courses = program.create_courses(professors)"
   ]
  },
  {
   "cell_type": "code",
   "execution_count": 5,
   "metadata": {},
   "outputs": [
    {
     "name": "stdout",
     "output_type": "stream",
     "text": [
      "Daniel Arendt\n",
      "Jacek Rogowski\n",
      "Włodzimierz Fechner\n",
      "Marek Bienias\n",
      "Roman Krasiukianis\n",
      "Filip Strobin\n",
      "Michał Karbowańczyk\n",
      "Henryk Dębiński\n",
      "Wojciech Kryszewski\n",
      "Marek Galewski\n",
      "Agnieszka Drwalewska\n",
      "Bogdan Balcerzak\n",
      "Szymon Głąb\n",
      "Błażej Dziuba\n",
      "Adam Bryszewski\n"
     ]
    }
   ],
   "source": [
    "for prof in professors:\n",
    "    print(prof)"
   ]
  },
  {
   "cell_type": "code",
   "execution_count": 6,
   "metadata": {},
   "outputs": [
    {
     "name": "stdout",
     "output_type": "stream",
     "text": [
      "Analiza_matematyczna_I\n",
      "Algebra_liniowa_z_geometrią_analityczną_I\n",
      "Technologie_informatyczne_I\n",
      "Wstęp_do_obliczeń_symbolicznych\n",
      "Wstęp_do_logiki_i_teorii_mnogości\n"
     ]
    }
   ],
   "source": [
    "for course in courses:\n",
    "    print(course)"
   ]
  },
  {
   "cell_type": "code",
   "execution_count": 7,
   "metadata": {},
   "outputs": [
    {
     "name": "stdout",
     "output_type": "stream",
     "text": [
      "0\n",
      "Analiza_matematyczna_I\n",
      "1\n",
      "[60, 60, 0]\n",
      "Wojciech Kryszewski\n",
      "ID: 2. Imię i nazwisko prowadzącego: Włodzimierz Fechner\n",
      "ID: 9. Imię i nazwisko prowadzącego: Marek Galewski\n",
      "ID: 10. Imię i nazwisko prowadzącego: Agnieszka Drwalewska\n"
     ]
    }
   ],
   "source": [
    "print(courses[0].id)\n",
    "print(courses[0].name)\n",
    "print(courses[0].semester)\n",
    "print(courses[0].hours_per_semester)\n",
    "print(courses[0].lecturer)\n",
    "for prof in courses[0].professors:\n",
    "    print(f'ID: {prof.id}. Imię i nazwisko prowadzącego: {prof}')"
   ]
  },
  {
   "cell_type": "code",
   "execution_count": 8,
   "metadata": {},
   "outputs": [],
   "source": [
    "AM_classes = courses[0].create_classes()"
   ]
  },
  {
   "cell_type": "code",
   "execution_count": 14,
   "metadata": {},
   "outputs": [
    {
     "name": "stdout",
     "output_type": "stream",
     "text": [
      "Analiza_matematyczna_I_lecture_1, Analiza_matematyczna_I, lecture, None, Wojciech Kryszewski, None, \n",
      "Analiza_matematyczna_I_lecture_2, Analiza_matematyczna_I, lecture, None, Wojciech Kryszewski, None, \n",
      "Analiza_matematyczna_I_practicals_1, Analiza_matematyczna_I, practicals, None, None, None, \n",
      "Analiza_matematyczna_I_practicals_2, Analiza_matematyczna_I, practicals, None, None, None, \n"
     ]
    }
   ],
   "source": [
    "for zajecia in AM_classes:\n",
    "    print(zajecia)"
   ]
  }
 ],
 "metadata": {
  "kernelspec": {
   "display_name": ".venv",
   "language": "python",
   "name": "python3"
  },
  "language_info": {
   "codemirror_mode": {
    "name": "ipython",
    "version": 3
   },
   "file_extension": ".py",
   "mimetype": "text/x-python",
   "name": "python",
   "nbconvert_exporter": "python",
   "pygments_lexer": "ipython3",
   "version": "3.12.1"
  }
 },
 "nbformat": 4,
 "nbformat_minor": 2
}

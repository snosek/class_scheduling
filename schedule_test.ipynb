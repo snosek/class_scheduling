{
 "cells": [
  {
   "cell_type": "code",
   "execution_count": 8,
   "metadata": {},
   "outputs": [],
   "source": [
    "from backend.schedule import *"
   ]
  },
  {
   "cell_type": "code",
   "execution_count": 9,
   "metadata": {},
   "outputs": [],
   "source": [
    "PGo = Professor(0, \"dr PGo\")\n",
    "AOk = Professor(1, \"dr AOk\")\n",
    "MKr = Professor(2, \"dr MKr\")\n",
    "MKa = Professor(3, \"dr MKa\")\n",
    "FTu = Professor(4, \"dr FTu\")"
   ]
  },
  {
   "cell_type": "code",
   "execution_count": 10,
   "metadata": {},
   "outputs": [],
   "source": [
    "statystyczna_analiza_danych = Course(\n",
    "    0, \"Statystyczna analiza danych\", 1, [20, 0, 30], PGo, [PGo]\n",
    ")\n",
    "rachunek_prawdopodobienstwa = Course(\n",
    "    1, \"Rachunek prawdopodobieństwa\", 1, [30, 30, 0], AOk, [MKa]\n",
    ")\n",
    "numeryczna_algebra_liniowa = Course(\n",
    "    2, \"Numeryczna algebra liniowa\", 1, [20, 0, 30], MKr, [MKr]\n",
    ")\n",
    "uczenie_maszynowe = Course(\n",
    "    3, \"Uczenie maszynowe\", 1, [30, 0, 30], FTu, [FTu]\n",
    ")\n",
    "# przydałaby się metoda tworząca listę obiektów Class z obiektu Course"
   ]
  },
  {
   "cell_type": "code",
   "execution_count": 11,
   "metadata": {},
   "outputs": [],
   "source": [
    "rok1_grupa1 = Students(1, 1)"
   ]
  },
  {
   "cell_type": "code",
   "execution_count": 12,
   "metadata": {},
   "outputs": [],
   "source": [
    "B9_F3 = Room(\"B9-F3\", 60, \"normal\")\n",
    "B9_F6 = Room(\"B9-F6\", 30, \"normal\")\n",
    "B9_F7 = Room(\"B9-F7\", 60, \"normal\")\n",
    "B9_F8 = Room(\"B9-F8\", 60, \"normal\")\n",
    "B9_51 = Room(\"B9-51\", 20, \"lab\")\n",
    "B9_52 = Room(\"B9-52\", 60, \"normal\")\n",
    "B9_53 = Room(\"53\", 30, \"lab\")\n",
    "B14_1_12 = Room(\"B14-1.12\", 30, \"lab\")"
   ]
  },
  {
   "cell_type": "code",
   "execution_count": 15,
   "metadata": {},
   "outputs": [],
   "source": [
    "sad_classes = statystyczna_analiza_danych.create_classes()\n",
    "rp_classes = rachunek_prawdopodobienstwa.create_classes()\n",
    "nal_classes = numeryczna_algebra_liniowa.create_classes()\n",
    "um_classes = uczenie_maszynowe.create_classes()"
   ]
  }
 ],
 "metadata": {
  "kernelspec": {
   "display_name": ".venv",
   "language": "python",
   "name": "python3"
  },
  "language_info": {
   "codemirror_mode": {
    "name": "ipython",
    "version": 3
   },
   "file_extension": ".py",
   "mimetype": "text/x-python",
   "name": "python",
   "nbconvert_exporter": "python",
   "pygments_lexer": "ipython3",
   "version": "3.11.6"
  }
 },
 "nbformat": 4,
 "nbformat_minor": 2
}

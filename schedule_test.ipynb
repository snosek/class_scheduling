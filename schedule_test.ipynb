{
      "cells": [
            {
                  "cell_type": "code",
                  "execution_count": 1,
                  "metadata": {},
                  "outputs": [],
                  "source": [
                        "from backend.schedule import *"
                  ]
            },
            {
                  "cell_type": "code",
                  "execution_count": 2,
                  "metadata": {},
                  "outputs": [],
                  "source": [
                        "rooms = [\n",
                        "    Room(\"B9-F3\", 60, \"normal\"),\n",
                        "    Room(\"B9-F6\", 30, \"normal\"),\n",
                        "    Room(\"B9-F7\", 60, \"normal\"),\n",
                        "    Room(\"B9-F8\", 60, \"normal\"),\n",
                        "    Room(\"B9-51\", 30, \"laboratories\"),\n",
                        "    Room(\"B9-52\", 60, \"normal\"),\n",
                        "    Room(\"B9-53\", 30, \"laboratories\"),\n",
                        "    Room(\"B14-1.12\", 30, \"laboratories\"),\n",
                        "]"
                  ]
            },
            {
                  "cell_type": "code",
                  "execution_count": 3,
                  "metadata": {},
                  "outputs": [],
                  "source": [
                        "program = Data(\"program_testowy.xlsx\")"
                  ]
            },
            {
                  "cell_type": "code",
                  "execution_count": 4,
                  "metadata": {},
                  "outputs": [],
                  "source": [
                        "professors = program.create_professors()\n",
                        "courses = program.create_courses(professors)"
                  ]
            },
            {
                  "cell_type": "code",
                  "execution_count": 5,
                  "metadata": {},
                  "outputs": [
                        {
                              "name": "stdout",
                              "output_type": "stream",
                              "text": [
                                    "Agnieszka Drwalewska\n",
                                    "Włodzimierz Fechner\n",
                                    "Henryk Dębiński\n",
                                    "Igor Kossowski\n",
                                    "Marek Galewski\n",
                                    "Marcin Ostrowski\n",
                                    "Jacek Rogowski\n",
                                    "Daniel Arendt\n",
                                    "Adam Bryszewski\n",
                                    "Feliks Kurp\n",
                                    "Bogdan Balcerzak\n",
                                    "Roman Krasiukianis\n",
                                    "Filip Strobin\n",
                                    "Błażej Dziuba\n",
                                    "Marek Martin\n",
                                    "Małgorzata Pietruk\n",
                                    "Wojciech Kryszewski\n",
                                    "Szymon Głąb\n",
                                    "Michał Karbowańczyk\n",
                                    "Jacek Jachymski\n",
                                    "Marek Bienias\n",
                                    "Robert Stegliński\n",
                                    "Lesław Gajek\n"
                              ]
                        }
                  ],
                  "source": [
                        "for prof in professors:\n",
                        "    print(prof)"
                  ]
            },
            {
                  "cell_type": "code",
                  "execution_count": 6,
                  "metadata": {},
                  "outputs": [
                        {
                              "name": "stdout",
                              "output_type": "stream",
                              "text": [
                                    "Analiza_matematyczna_I\n",
                                    "Algebra_liniowa_z_geometrią_analityczną_I\n",
                                    "Technologie_informatyczne_I\n",
                                    "Wstęp_do_obliczeń_symbolicznych\n",
                                    "Wstęp_do_logiki_i_teorii_mnogości\n",
                                    "Topologia_przestrzeni_metrycznych\n",
                                    "Technologie_informatyczne_II\n",
                                    "Algebra_liniowa_z_geometrią_analityczną_II\n",
                                    "Komputerowe_obliczenia_matematyczne\n",
                                    "Podstawy_ekonomii_i_przedsiębiorczości\n",
                                    "Podstawy_probabilistyki\n",
                                    "Analiza_matematyczna_II\n"
                              ]
                        }
                  ],
                  "source": [
                        "for course in courses:\n",
                        "    print(course)"
                  ]
            },
            {
                  "cell_type": "code",
                  "execution_count": 7,
                  "metadata": {},
                  "outputs": [
                        {
                              "name": "stdout",
                              "output_type": "stream",
                              "text": [
                                    "0\n",
                                    "Analiza_matematyczna_I\n",
                                    "1\n",
                                    "[60, 60, 0]\n",
                                    "Wojciech Kryszewski\n",
                                    "ID: 0. Imię i nazwisko prowadzącego: Agnieszka Drwalewska\n",
                                    "ID: 1. Imię i nazwisko prowadzącego: Włodzimierz Fechner\n",
                                    "ID: 4. Imię i nazwisko prowadzącego: Marek Galewski\n"
                              ]
                        }
                  ],
                  "source": [
                        "print(courses[0].id)\n",
                        "print(courses[0].name)\n",
                        "print(courses[0].semester)\n",
                        "print(courses[0].hours_per_semester)\n",
                        "print(courses[0].lecturer)\n",
                        "for prof in courses[0].professors:\n",
                        "    print(f\"ID: {prof.id}. Imię i nazwisko prowadzącego: {prof}\")"
                  ]
            },
            {
                  "cell_type": "code",
                  "execution_count": 8,
                  "metadata": {},
                  "outputs": [],
                  "source": [
                        "MS_sem_1_gr_1 = Students(0,1, 1, \"matematyka stosowana\")\n",
                        "MS_sem_1_gr_2 = Students(1,1, 2, \"matematyka stosowana\")\n",
                        "MS_sem_2_gr_1 = Students(2,2, 1, \"matematyka stosowana\")\n",
                        "MS_sem_2_gr_2 = Students(3,2, 2, \"matematyka stosowana\")\n",
                        "MS = [MS_sem_1_gr_1, MS_sem_1_gr_2]\n",
                        "AM_classes = courses[0].create_classes(MS)\n",
                        "MS = [MS_sem_1_gr_1, MS_sem_1_gr_2, MS_sem_2_gr_1, MS_sem_2_gr_2]"
                  ]
            },
            {
                  "cell_type": "code",
                  "execution_count": 9,
                  "metadata": {},
                  "outputs": [],
                  "source": [
                        "schedule1 = Schedule(professors, courses, rooms, MS)"
                  ]
            },
            {
                  "cell_type": "code",
                  "execution_count": 10,
                  "metadata": {},
                  "outputs": [],
                  "source": [
                        "schedule1.random_schedule()"
                  ]
            },
            {
                  "cell_type": "code",
                  "execution_count": 11,
                  "metadata": {},
                  "outputs": [
                        {
                              "name": "stdout",
                              "output_type": "stream",
                              "text": [
                                    "Kierunek matematyka stosowana Semestr 1 Grupa 1:\n",
                                    "Analiza_matematyczna_I_lecture_1, B9-F6, Wojciech Kryszewski, Day: 0, hour: 3\n",
                                    "Analiza_matematyczna_I_lecture_2, B9-F6, Wojciech Kryszewski, Day: 2, hour: 4\n",
                                    "Algebra_liniowa_z_geometrią_analityczną_I_lecture_1, B9-F6, Filip Strobin, Day: 2, hour: 1\n",
                                    "Wstęp_do_logiki_i_teorii_mnogości_lecture_1, B9-F6, Szymon Głąb, Day: 1, hour: 0\n",
                                    "Analiza_matematyczna_I_practicals_1_grp_1, B9-F6, Agnieszka Drwalewska, Day: 3, hour: 1\n",
                                    "Analiza_matematyczna_I_practicals_2_grp_1, B9-F6, Agnieszka Drwalewska, Day: 0, hour: 1\n",
                                    "Algebra_liniowa_z_geometrią_analityczną_I_practicals_1_grp_1, B9-F6, Bogdan Balcerzak, Day: 4, hour: 5\n",
                                    "Technologie_informatyczne_I_laboratories_1_grp_1, B9-51, Daniel Arendt, Day: 1, hour: 5\n",
                                    "Wstęp_do_obliczeń_symbolicznych_laboratories_1_grp_1, B9-53, Henryk Dębiński, Day: 3, hour: 3\n",
                                    "Wstęp_do_logiki_i_teorii_mnogości_practicals_1_grp_1, B9-52, Szymon Głąb, Day: 2, hour: 3\n",
                                    " \n",
                                    "Kierunek matematyka stosowana Semestr 1 Grupa 2:\n",
                                    "Analiza_matematyczna_I_lecture_1, B9-F6, Wojciech Kryszewski, Day: 0, hour: 3\n",
                                    "Analiza_matematyczna_I_lecture_2, B9-F6, Wojciech Kryszewski, Day: 2, hour: 4\n",
                                    "Algebra_liniowa_z_geometrią_analityczną_I_lecture_1, B9-F6, Filip Strobin, Day: 2, hour: 1\n",
                                    "Wstęp_do_logiki_i_teorii_mnogości_lecture_1, B9-F6, Szymon Głąb, Day: 1, hour: 0\n",
                                    "Analiza_matematyczna_I_practicals_1_grp_2, B9-F8, Włodzimierz Fechner, Day: 1, hour: 3\n",
                                    "Analiza_matematyczna_I_practicals_2_grp_2, B9-F8, Włodzimierz Fechner, Day: 3, hour: 3\n",
                                    "Algebra_liniowa_z_geometrią_analityczną_I_practicals_1_grp_2, B9-F7, Filip Strobin, Day: 4, hour: 4\n",
                                    "Technologie_informatyczne_I_laboratories_1_grp_2, B14-1.12, Adam Bryszewski, Day: 3, hour: 2\n",
                                    "Wstęp_do_obliczeń_symbolicznych_laboratories_1_grp_2, B9-53, Jacek Rogowski, Day: 3, hour: 4\n",
                                    "Wstęp_do_logiki_i_teorii_mnogości_practicals_1_grp_2, B9-52, Marek Bienias, Day: 1, hour: 1\n",
                                    " \n",
                                    "Kierunek matematyka stosowana Semestr 2 Grupa 1:\n",
                                    "Topologia_przestrzeni_metrycznych_lecture_1, B9-F7, Jacek Jachymski, Day: 4, hour: 0\n",
                                    "Algebra_liniowa_z_geometrią_analityczną_II_lecture_1, B9-F3, Bogdan Balcerzak, Day: 0, hour: 5\n",
                                    "Podstawy_ekonomii_i_przedsiębiorczości_lecture_1, B9-F8, Marek Martin, Day: 0, hour: 2\n",
                                    "Podstawy_probabilistyki_lecture_1, B9-F8, Lesław Gajek, Day: 1, hour: 3\n",
                                    "Analiza_matematyczna_II_lecture_1, B9-52, Wojciech Kryszewski, Day: 1, hour: 2\n",
                                    "Topologia_przestrzeni_metrycznych_practicals_1_grp_1, B9-F6, Bogdan Balcerzak, Day: 3, hour: 2\n",
                                    "Technologie_informatyczne_II_laboratories_1_grp_1, B14-1.12, Marcin Ostrowski, Day: 2, hour: 2\n",
                                    "Algebra_liniowa_z_geometrią_analityczną_II_practicals_1_grp_1, B9-52, Bogdan Balcerzak, Day: 1, hour: 1\n",
                                    "Komputerowe_obliczenia_matematyczne_laboratories_1_grp_1, B9-53, Henryk Dębiński, Day: 1, hour: 5\n",
                                    "Podstawy_probabilistyki_practicals_1_grp_1, B9-F3, Filip Strobin, Day: 0, hour: 1\n",
                                    "Analiza_matematyczna_II_practicals_1_grp_1, B9-F6, Wojciech Kryszewski, Day: 4, hour: 2\n",
                                    "Analiza_matematyczna_II_practicals_2_grp_1, B9-F6, Wojciech Kryszewski, Day: 4, hour: 4\n",
                                    " \n",
                                    "Kierunek matematyka stosowana Semestr 2 Grupa 2:\n",
                                    "Topologia_przestrzeni_metrycznych_lecture_1, B9-F7, Jacek Jachymski, Day: 4, hour: 0\n",
                                    "Algebra_liniowa_z_geometrią_analityczną_II_lecture_1, B9-F3, Bogdan Balcerzak, Day: 0, hour: 5\n",
                                    "Podstawy_ekonomii_i_przedsiębiorczości_lecture_1, B9-F8, Marek Martin, Day: 0, hour: 2\n",
                                    "Podstawy_probabilistyki_lecture_1, B9-F8, Lesław Gajek, Day: 1, hour: 3\n",
                                    "Analiza_matematyczna_II_lecture_1, B9-52, Wojciech Kryszewski, Day: 1, hour: 2\n",
                                    "Topologia_przestrzeni_metrycznych_practicals_1_grp_2, B9-F6, Jacek Jachymski, Day: 1, hour: 0\n",
                                    "Technologie_informatyczne_II_laboratories_1_grp_2, B9-53, Feliks Kurp, Day: 3, hour: 4\n",
                                    "Algebra_liniowa_z_geometrią_analityczną_II_practicals_1_grp_2, B9-52, Robert Stegliński, Day: 2, hour: 5\n",
                                    "Komputerowe_obliczenia_matematyczne_laboratories_1_grp_2, B9-53, Igor Kossowski, Day: 2, hour: 4\n",
                                    "Podstawy_probabilistyki_practicals_1_grp_2, B9-F7, Filip Strobin, Day: 2, hour: 1\n",
                                    "Analiza_matematyczna_II_practicals_1_grp_2, B9-52, Wojciech Kryszewski, Day: 0, hour: 1\n",
                                    "Analiza_matematyczna_II_practicals_2_grp_2, B9-F3, Wojciech Kryszewski, Day: 4, hour: 2\n",
                                    " \n"
                              ]
                        }
                  ],
                  "source": [
                        "for i in range(len(MS)):\n",
                        "    print(f\"{MS[i]}:\")\n",
                        "    for item in schedule1.schedule[i]:\n",
                        "        print(item)\n",
                        "    print(\" \")"
                  ]
            },
            {
                  "cell_type": "code",
                  "execution_count": 12,
                  "metadata": {},
                  "outputs": [
                        {
                              "name": "stdout",
                              "output_type": "stream",
                              "text": [
                                    "Zajęcia dla profesora Agnieszka Drwalewska:\n",
                                    "Analiza_matematyczna_I_practicals_1_grp_1, B9-F6, Agnieszka Drwalewska, Day: 3, hour: 1\n",
                                    "Analiza_matematyczna_I_practicals_2_grp_1, B9-F6, Agnieszka Drwalewska, Day: 0, hour: 1\n",
                                    "Zajęcia dla profesora Włodzimierz Fechner:\n",
                                    "Analiza_matematyczna_I_practicals_1_grp_2, B9-F8, Włodzimierz Fechner, Day: 1, hour: 3\n",
                                    "Analiza_matematyczna_I_practicals_2_grp_2, B9-F8, Włodzimierz Fechner, Day: 3, hour: 3\n",
                                    "Zajęcia dla profesora Henryk Dębiński:\n",
                                    "Wstęp_do_obliczeń_symbolicznych_laboratories_1_grp_1, B9-53, Henryk Dębiński, Day: 3, hour: 3\n",
                                    "Komputerowe_obliczenia_matematyczne_laboratories_1_grp_1, B9-53, Henryk Dębiński, Day: 1, hour: 5\n",
                                    "Zajęcia dla profesora Igor Kossowski:\n",
                                    "Komputerowe_obliczenia_matematyczne_laboratories_1_grp_2, B9-53, Igor Kossowski, Day: 2, hour: 4\n",
                                    "Zajęcia dla profesora Marek Galewski:\n",
                                    "Zajęcia dla profesora Marcin Ostrowski:\n",
                                    "Technologie_informatyczne_II_laboratories_1_grp_1, B14-1.12, Marcin Ostrowski, Day: 2, hour: 2\n",
                                    "Zajęcia dla profesora Jacek Rogowski:\n",
                                    "Wstęp_do_obliczeń_symbolicznych_laboratories_1_grp_2, B9-53, Jacek Rogowski, Day: 3, hour: 4\n",
                                    "Zajęcia dla profesora Daniel Arendt:\n",
                                    "Technologie_informatyczne_I_laboratories_1_grp_1, B9-51, Daniel Arendt, Day: 1, hour: 5\n",
                                    "Zajęcia dla profesora Adam Bryszewski:\n",
                                    "Technologie_informatyczne_I_laboratories_1_grp_2, B14-1.12, Adam Bryszewski, Day: 3, hour: 2\n",
                                    "Zajęcia dla profesora Feliks Kurp:\n",
                                    "Technologie_informatyczne_II_laboratories_1_grp_2, B9-53, Feliks Kurp, Day: 3, hour: 4\n",
                                    "Zajęcia dla profesora Bogdan Balcerzak:\n",
                                    "Algebra_liniowa_z_geometrią_analityczną_I_practicals_1_grp_1, B9-F6, Bogdan Balcerzak, Day: 4, hour: 5\n",
                                    "Topologia_przestrzeni_metrycznych_practicals_1_grp_1, B9-F6, Bogdan Balcerzak, Day: 3, hour: 2\n",
                                    "Algebra_liniowa_z_geometrią_analityczną_II_lecture_1, B9-F3, Bogdan Balcerzak, Day: 0, hour: 5\n",
                                    "Algebra_liniowa_z_geometrią_analityczną_II_practicals_1_grp_1, B9-52, Bogdan Balcerzak, Day: 1, hour: 1\n",
                                    "Zajęcia dla profesora Roman Krasiukianis:\n",
                                    "Zajęcia dla profesora Filip Strobin:\n",
                                    "Algebra_liniowa_z_geometrią_analityczną_I_lecture_1, B9-F6, Filip Strobin, Day: 2, hour: 1\n",
                                    "Algebra_liniowa_z_geometrią_analityczną_I_practicals_1_grp_2, B9-F7, Filip Strobin, Day: 4, hour: 4\n",
                                    "Podstawy_probabilistyki_practicals_1_grp_1, B9-F3, Filip Strobin, Day: 0, hour: 1\n",
                                    "Podstawy_probabilistyki_practicals_1_grp_2, B9-F7, Filip Strobin, Day: 2, hour: 1\n",
                                    "Zajęcia dla profesora Błażej Dziuba:\n",
                                    "Zajęcia dla profesora Marek Martin:\n",
                                    "Podstawy_ekonomii_i_przedsiębiorczości_lecture_1, B9-F8, Marek Martin, Day: 0, hour: 2\n",
                                    "Zajęcia dla profesora Małgorzata Pietruk:\n",
                                    "Zajęcia dla profesora Wojciech Kryszewski:\n",
                                    "Analiza_matematyczna_I_lecture_1, B9-F6, Wojciech Kryszewski, Day: 0, hour: 3\n",
                                    "Analiza_matematyczna_I_lecture_2, B9-F6, Wojciech Kryszewski, Day: 2, hour: 4\n",
                                    "Analiza_matematyczna_II_lecture_1, B9-52, Wojciech Kryszewski, Day: 1, hour: 2\n",
                                    "Analiza_matematyczna_II_practicals_1_grp_1, B9-F6, Wojciech Kryszewski, Day: 4, hour: 2\n",
                                    "Analiza_matematyczna_II_practicals_2_grp_1, B9-F6, Wojciech Kryszewski, Day: 4, hour: 4\n",
                                    "Analiza_matematyczna_II_practicals_1_grp_2, B9-52, Wojciech Kryszewski, Day: 0, hour: 1\n",
                                    "Analiza_matematyczna_II_practicals_2_grp_2, B9-F3, Wojciech Kryszewski, Day: 4, hour: 2\n",
                                    "Zajęcia dla profesora Szymon Głąb:\n",
                                    "Wstęp_do_logiki_i_teorii_mnogości_lecture_1, B9-F6, Szymon Głąb, Day: 1, hour: 0\n",
                                    "Wstęp_do_logiki_i_teorii_mnogości_practicals_1_grp_1, B9-52, Szymon Głąb, Day: 2, hour: 3\n",
                                    "Zajęcia dla profesora Michał Karbowańczyk:\n",
                                    "Zajęcia dla profesora Jacek Jachymski:\n",
                                    "Topologia_przestrzeni_metrycznych_lecture_1, B9-F7, Jacek Jachymski, Day: 4, hour: 0\n",
                                    "Topologia_przestrzeni_metrycznych_practicals_1_grp_2, B9-F6, Jacek Jachymski, Day: 1, hour: 0\n",
                                    "Zajęcia dla profesora Marek Bienias:\n",
                                    "Wstęp_do_logiki_i_teorii_mnogości_practicals_1_grp_2, B9-52, Marek Bienias, Day: 1, hour: 1\n",
                                    "Zajęcia dla profesora Robert Stegliński:\n",
                                    "Algebra_liniowa_z_geometrią_analityczną_II_practicals_1_grp_2, B9-52, Robert Stegliński, Day: 2, hour: 5\n",
                                    "Zajęcia dla profesora Lesław Gajek:\n",
                                    "Podstawy_probabilistyki_lecture_1, B9-F8, Lesław Gajek, Day: 1, hour: 3\n"
                              ]
                        }
                  ],
                  "source": [
                        "for professor in schedule1.professors:\n",
                        "    print(f\"Zajęcia dla profesora {professor}:\")\n",
                        "    for item in schedule1.classes:\n",
                        "        if item.professor == professor:\n",
                        "            print(item)"
                  ]
            },
            {
                  "cell_type": "code",
                  "execution_count": 13,
                  "metadata": {},
                  "outputs": [
                        {
                              "name": "stdout",
                              "output_type": "stream",
                              "text": [
                                    "Zajęcia dla sali B9-F3:\n",
                                    "Algebra_liniowa_z_geometrią_analityczną_II_lecture_1, B9-F3, Bogdan Balcerzak, Day: 0, hour: 5\n",
                                    "Podstawy_probabilistyki_practicals_1_grp_1, B9-F3, Filip Strobin, Day: 0, hour: 1\n",
                                    "Analiza_matematyczna_II_practicals_2_grp_2, B9-F3, Wojciech Kryszewski, Day: 4, hour: 2\n",
                                    "Zajęcia dla sali B9-F6:\n",
                                    "Analiza_matematyczna_I_lecture_1, B9-F6, Wojciech Kryszewski, Day: 0, hour: 3\n",
                                    "Analiza_matematyczna_I_lecture_2, B9-F6, Wojciech Kryszewski, Day: 2, hour: 4\n",
                                    "Analiza_matematyczna_I_practicals_1_grp_1, B9-F6, Agnieszka Drwalewska, Day: 3, hour: 1\n",
                                    "Analiza_matematyczna_I_practicals_2_grp_1, B9-F6, Agnieszka Drwalewska, Day: 0, hour: 1\n",
                                    "Algebra_liniowa_z_geometrią_analityczną_I_lecture_1, B9-F6, Filip Strobin, Day: 2, hour: 1\n",
                                    "Algebra_liniowa_z_geometrią_analityczną_I_practicals_1_grp_1, B9-F6, Bogdan Balcerzak, Day: 4, hour: 5\n",
                                    "Wstęp_do_logiki_i_teorii_mnogości_lecture_1, B9-F6, Szymon Głąb, Day: 1, hour: 0\n",
                                    "Topologia_przestrzeni_metrycznych_practicals_1_grp_1, B9-F6, Bogdan Balcerzak, Day: 3, hour: 2\n",
                                    "Topologia_przestrzeni_metrycznych_practicals_1_grp_2, B9-F6, Jacek Jachymski, Day: 1, hour: 0\n",
                                    "Analiza_matematyczna_II_practicals_1_grp_1, B9-F6, Wojciech Kryszewski, Day: 4, hour: 2\n",
                                    "Analiza_matematyczna_II_practicals_2_grp_1, B9-F6, Wojciech Kryszewski, Day: 4, hour: 4\n",
                                    "Zajęcia dla sali B9-F7:\n",
                                    "Algebra_liniowa_z_geometrią_analityczną_I_practicals_1_grp_2, B9-F7, Filip Strobin, Day: 4, hour: 4\n",
                                    "Topologia_przestrzeni_metrycznych_lecture_1, B9-F7, Jacek Jachymski, Day: 4, hour: 0\n",
                                    "Podstawy_probabilistyki_practicals_1_grp_2, B9-F7, Filip Strobin, Day: 2, hour: 1\n",
                                    "Zajęcia dla sali B9-F8:\n",
                                    "Analiza_matematyczna_I_practicals_1_grp_2, B9-F8, Włodzimierz Fechner, Day: 1, hour: 3\n",
                                    "Analiza_matematyczna_I_practicals_2_grp_2, B9-F8, Włodzimierz Fechner, Day: 3, hour: 3\n",
                                    "Podstawy_ekonomii_i_przedsiębiorczości_lecture_1, B9-F8, Marek Martin, Day: 0, hour: 2\n",
                                    "Podstawy_probabilistyki_lecture_1, B9-F8, Lesław Gajek, Day: 1, hour: 3\n",
                                    "Zajęcia dla sali B9-51:\n",
                                    "Technologie_informatyczne_I_laboratories_1_grp_1, B9-51, Daniel Arendt, Day: 1, hour: 5\n",
                                    "Zajęcia dla sali B9-52:\n",
                                    "Wstęp_do_logiki_i_teorii_mnogości_practicals_1_grp_1, B9-52, Szymon Głąb, Day: 2, hour: 3\n",
                                    "Wstęp_do_logiki_i_teorii_mnogości_practicals_1_grp_2, B9-52, Marek Bienias, Day: 1, hour: 1\n",
                                    "Algebra_liniowa_z_geometrią_analityczną_II_practicals_1_grp_1, B9-52, Bogdan Balcerzak, Day: 1, hour: 1\n",
                                    "Algebra_liniowa_z_geometrią_analityczną_II_practicals_1_grp_2, B9-52, Robert Stegliński, Day: 2, hour: 5\n",
                                    "Analiza_matematyczna_II_lecture_1, B9-52, Wojciech Kryszewski, Day: 1, hour: 2\n",
                                    "Analiza_matematyczna_II_practicals_1_grp_2, B9-52, Wojciech Kryszewski, Day: 0, hour: 1\n",
                                    "Zajęcia dla sali B9-53:\n",
                                    "Wstęp_do_obliczeń_symbolicznych_laboratories_1_grp_1, B9-53, Henryk Dębiński, Day: 3, hour: 3\n",
                                    "Wstęp_do_obliczeń_symbolicznych_laboratories_1_grp_2, B9-53, Jacek Rogowski, Day: 3, hour: 4\n",
                                    "Technologie_informatyczne_II_laboratories_1_grp_2, B9-53, Feliks Kurp, Day: 3, hour: 4\n",
                                    "Komputerowe_obliczenia_matematyczne_laboratories_1_grp_1, B9-53, Henryk Dębiński, Day: 1, hour: 5\n",
                                    "Komputerowe_obliczenia_matematyczne_laboratories_1_grp_2, B9-53, Igor Kossowski, Day: 2, hour: 4\n",
                                    "Zajęcia dla sali B14-1.12:\n",
                                    "Technologie_informatyczne_I_laboratories_1_grp_2, B14-1.12, Adam Bryszewski, Day: 3, hour: 2\n",
                                    "Technologie_informatyczne_II_laboratories_1_grp_1, B14-1.12, Marcin Ostrowski, Day: 2, hour: 2\n"
                              ]
                        }
                  ],
                  "source": [
                        "for room in schedule1.rooms:\n",
                        "    print(f\"Zajęcia dla sali {room}:\")\n",
                        "    for item in schedule1.classes:\n",
                        "        if item.room == room:\n",
                        "            print(item)"
                  ]
            },
            {
                  "cell_type": "code",
                  "execution_count": 14,
                  "metadata": {},
                  "outputs": [
                        {
                              "name": "stdout",
                              "output_type": "stream",
                              "text": [
                                    "12\n"
                              ]
                        }
                  ],
                  "source": [
                        "schedule1.calculate_and_set_number_of_conflicts()\n",
                        "print(schedule1.number_of_conflicts)"
                  ]
            },
            {
                  "cell_type": "code",
                  "execution_count": 15,
                  "metadata": {},
                  "outputs": [
                        {
                              "name": "stdout",
                              "output_type": "stream",
                              "text": [
                                    "5\n",
                                    "6\n"
                              ]
                        }
                  ],
                  "source": [
                        "schedule1.calculate_and_set_number_of_early_and_late_hours()\n",
                        "print(schedule1.number_of_early_hours)\n",
                        "print(schedule1.number_of_late_hours)"
                  ]
            },
            {
                  "cell_type": "code",
                  "execution_count": 16,
                  "metadata": {},
                  "outputs": [
                        {
                              "name": "stdout",
                              "output_type": "stream",
                              "text": [
                                    "0\n"
                              ]
                        }
                  ],
                  "source": [
                        "schedule1.calculate_and_set_number_of_free_days()\n",
                        "print(schedule1.number_of_free_days)"
                  ]
            },
            {
                  "cell_type": "code",
                  "execution_count": 17,
                  "metadata": {},
                  "outputs": [
                        {
                              "name": "stdout",
                              "output_type": "stream",
                              "text": [
                                    "1\n"
                              ]
                        }
                  ],
                  "source": [
                        "schedule1.calculate_and_set_number_of_course_conflicts()\n",
                        "print(schedule1.number_of_course_conflicts)"
                  ]
            },
            {
                  "cell_type": "code",
                  "execution_count": 18,
                  "metadata": {},
                  "outputs": [
                        {
                              "name": "stdout",
                              "output_type": "stream",
                              "text": [
                                    "14\n",
                                    "21\n"
                              ]
                        }
                  ],
                  "source": [
                        "schedule1.calculate_and_set_number_of_free_periods()\n",
                        "print(schedule1.number_of_free_periods)\n",
                        "print(schedule1.length_of_free_periods)"
                  ]
            },
            {
                  "cell_type": "code",
                  "execution_count": 19,
                  "metadata": {},
                  "outputs": [],
                  "source": [
                        "schedule1.visualize_groups(\"plan_dla_studentow\")"
                  ]
            }
      ],
      "metadata": {
            "kernelspec": {
                  "display_name": ".venv",
                  "language": "python",
                  "name": "python3"
            },
            "language_info": {
                  "codemirror_mode": {
                        "name": "ipython",
                        "version": 3
                  },
                  "file_extension": ".py",
                  "mimetype": "text/x-python",
                  "name": "python",
                  "nbconvert_exporter": "python",
                  "pygments_lexer": "ipython3",
                  "version": "3.12.1"
            }
      },
      "nbformat": 4,
      "nbformat_minor": 2
}

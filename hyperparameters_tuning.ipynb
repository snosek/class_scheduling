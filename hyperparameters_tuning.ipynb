{
 "cells": [
  {
   "cell_type": "code",
   "execution_count": 1,
   "metadata": {},
   "outputs": [
    {
     "name": "stderr",
     "output_type": "stream",
     "text": [
      "/Users/stefannosek/Documents/GitHub/class_scheduling/.venv/lib/python3.11/site-packages/tqdm/auto.py:21: TqdmWarning: IProgress not found. Please update jupyter and ipywidgets. See https://ipywidgets.readthedocs.io/en/stable/user_install.html\n",
      "  from .autonotebook import tqdm as notebook_tqdm\n"
     ]
    }
   ],
   "source": [
    "import optuna\n",
    "from backend.genetic_algorithm import *\n",
    "from math import floor"
   ]
  },
  {
   "cell_type": "code",
   "execution_count": 2,
   "metadata": {},
   "outputs": [],
   "source": [
    "rand.seed(240)"
   ]
  },
  {
   "cell_type": "code",
   "execution_count": 7,
   "metadata": {},
   "outputs": [],
   "source": [
    "rooms = [\n",
    "    Room(\"B9-F1\", 60, \"normal\"),\n",
    "    Room(\"B9-F2\", 60, \"normal\"),\n",
    "    Room(\"B9-F3\", 60, \"normal\"),\n",
    "    Room(\"B9-F4\", 60, \"normal\"),\n",
    "    Room(\"B9-F5\", 60, \"normal\"),\n",
    "    Room(\"B9-F6\", 30, \"normal\"),\n",
    "    Room(\"B9-F7\", 60, \"normal\"),\n",
    "    Room(\"B9-F8\", 60, \"normal\"),\n",
    "    Room(\"B9-F9\", 60, \"normal\"),\n",
    "    Room(\"B9-F10\", 150, \"normal\"),\n",
    "    Room(\"B9-51\", 30, \"laboratories\"),\n",
    "    Room(\"B9-52\", 60, \"normal\"),\n",
    "    Room(\"B9-53\", 30, \"laboratories\"),\n",
    "    Room(\"B14-1.11\", 60, \"normal\"),\n",
    "    Room(\"B14-1.12\", 30, \"laboratories\"),\n",
    "    Room(\"B14-2.1\", 30, \"laboratories\"),\n",
    "    Room(\"B14-2.2\", 30, \"laboratories\"),\n",
    "    Room(\"B14-2.3\", 30, \"laboratories\"),\n",
    "]\n",
    "\n",
    "program = Data(\"program.xlsx\")\n",
    "\n",
    "professors = program.create_professors()\n",
    "\n",
    "courses = program.create_courses(professors)\n",
    "\n",
    "MS_sem_1_gr_1 = Students(0, 1, 1, \"matematyka stosowana\")\n",
    "MS_sem_1_gr_2 = Students(1, 1, 2, \"matematyka stosowana\")\n",
    "MS_sem_2_gr_1 = Students(2, 2, 1, \"matematyka stosowana\")\n",
    "MS_sem_2_gr_2 = Students(3, 2, 2, \"matematyka stosowana\")\n",
    "MS_sem_3_gr_1 = Students(4, 3, 1, \"matematyka stosowana\")\n",
    "MS_sem_3_gr_2 = Students(5, 3, 2, \"matematyka stosowana\")\n",
    "MS_sem_4_gr_1 = Students(6, 4, 1, \"matematyka stosowana\")\n",
    "MS_sem_4_gr_2 = Students(7, 4, 2, \"matematyka stosowana\")\n",
    "MS_sem_5_gr_1 = Students(8, 5, 1, \"matematyka stosowana\")\n",
    "MS_sem_6_gr_1 = Students(9, 6, 1, \"matematyka stosowana\")\n",
    "\n",
    "students = [\n",
    "    MS_sem_1_gr_1, MS_sem_1_gr_2, MS_sem_2_gr_1, MS_sem_2_gr_2,\n",
    "    MS_sem_3_gr_1, MS_sem_3_gr_2, MS_sem_4_gr_1, MS_sem_4_gr_2,\n",
    "    MS_sem_5_gr_1, MS_sem_6_gr_1, \n",
    "]"
   ]
  },
  {
   "cell_type": "code",
   "execution_count": 17,
   "metadata": {},
   "outputs": [],
   "source": [
    "def objective(trial):\n",
    "    population_size = trial.suggest_int(\"population_size\", 50, 500, step = 10)\n",
    "    mutation_probability = trial.suggest_float(\"mutation_probability\", 0.1, 1, step = 0.05)\n",
    "    elites_percentage = trial.suggest_float(\"elites_percentage\", 0.05, 0.2, step = 0.05)\n",
    "    pairs_percentage = trial.suggest_float(\"pairs_percentage\", 0.4, 1, step = 0.1)\n",
    "    number_of_class_swaps = trial.suggest_int(\"number_of_class_swaps\", 1, 15, step = 1)\n",
    "    number_of_room_swaps = trial.suggest_int(\"number_of_room_swaps\", 1, 15, step = 1)\n",
    "\n",
    "    pop = Population(\n",
    "        population_size,\n",
    "        professors,\n",
    "        courses,\n",
    "        rooms,\n",
    "        students,\n",
    "        mutation_probability,\n",
    "        floor(population_size * elites_percentage),\n",
    "        floor(population_size/2 * pairs_percentage), \n",
    "        number_of_class_swaps,\n",
    "        number_of_room_swaps,\n",
    "    )\n",
    "\n",
    "    pop.population = pop.sort_by_fitness_and_soft_fitness(pop.population)\n",
    "\n",
    "    pop.execute(100)\n",
    "    \n",
    "    return 5 * pop.population[0].fitness + pop.population[0].soft_fitness"
   ]
  },
  {
   "cell_type": "code",
   "execution_count": 18,
   "metadata": {},
   "outputs": [
    {
     "name": "stderr",
     "output_type": "stream",
     "text": [
      "[I 2024-01-24 23:47:48,412] A new study created in memory with name: no-name-2e0b8383-3d68-403d-925c-47f163996758\n"
     ]
    }
   ],
   "source": [
    "study = optuna.create_study(direction = \"maximize\")"
   ]
  },
  {
   "cell_type": "code",
   "execution_count": 19,
   "metadata": {},
   "outputs": [
    {
     "name": "stderr",
     "output_type": "stream",
     "text": [
      "[I 2024-01-24 23:50:04,162] Trial 0 finished with value: 5.211538461538462 and parameters: {'population_size': 200, 'mutation_probability': 0.30000000000000004, 'elites_percentage': 0.05, 'pairs_percentage': 1.0, 'number_of_class_swaps': 8, 'number_of_room_swaps': 8}. Best is trial 0 with value: 5.211538461538462.\n",
      "[I 2024-01-24 23:50:50,401] Trial 1 finished with value: 2.635593220338983 and parameters: {'population_size': 100, 'mutation_probability': 0.30000000000000004, 'elites_percentage': 0.05, 'pairs_percentage': 0.6000000000000001, 'number_of_class_swaps': 5, 'number_of_room_swaps': 12}. Best is trial 0 with value: 5.211538461538462.\n",
      "[I 2024-01-24 23:53:12,879] Trial 2 finished with value: 5.214285714285714 and parameters: {'population_size': 250, 'mutation_probability': 0.25, 'elites_percentage': 0.05, 'pairs_percentage': 0.8, 'number_of_class_swaps': 6, 'number_of_room_swaps': 10}. Best is trial 2 with value: 5.214285714285714.\n",
      "[I 2024-01-24 23:55:44,469] Trial 3 finished with value: 5.245283018867925 and parameters: {'population_size': 250, 'mutation_probability': 0.85, 'elites_percentage': 0.1, 'pairs_percentage': 0.8, 'number_of_class_swaps': 13, 'number_of_room_swaps': 4}. Best is trial 3 with value: 5.245283018867925.\n",
      "[I 2024-01-24 23:58:02,401] Trial 4 finished with value: 5.148148148148148 and parameters: {'population_size': 230, 'mutation_probability': 0.2, 'elites_percentage': 0.1, 'pairs_percentage': 0.8, 'number_of_class_swaps': 9, 'number_of_room_swaps': 11}. Best is trial 3 with value: 5.245283018867925.\n",
      "[I 2024-01-25 00:02:02,372] Trial 5 finished with value: 2.6805555555555554 and parameters: {'population_size': 360, 'mutation_probability': 0.15000000000000002, 'elites_percentage': 0.15000000000000002, 'pairs_percentage': 0.9, 'number_of_class_swaps': 11, 'number_of_room_swaps': 15}. Best is trial 3 with value: 5.245283018867925.\n",
      "[I 2024-01-25 00:03:03,963] Trial 6 finished with value: 2.6470588235294117 and parameters: {'population_size': 110, 'mutation_probability': 0.45000000000000007, 'elites_percentage': 0.05, 'pairs_percentage': 0.8, 'number_of_class_swaps': 1, 'number_of_room_swaps': 4}. Best is trial 3 with value: 5.245283018867925.\n",
      "[I 2024-01-25 00:06:12,798] Trial 7 finished with value: 5.26530612244898 and parameters: {'population_size': 370, 'mutation_probability': 0.2, 'elites_percentage': 0.2, 'pairs_percentage': 0.5, 'number_of_class_swaps': 15, 'number_of_room_swaps': 3}. Best is trial 7 with value: 5.26530612244898.\n",
      "[I 2024-01-25 00:07:18,513] Trial 8 finished with value: 5.10752688172043 and parameters: {'population_size': 120, 'mutation_probability': 1.0, 'elites_percentage': 0.2, 'pairs_percentage': 0.6000000000000001, 'number_of_class_swaps': 4, 'number_of_room_swaps': 12}. Best is trial 7 with value: 5.26530612244898.\n",
      "[I 2024-01-25 00:09:08,730] Trial 9 finished with value: 5.270833333333333 and parameters: {'population_size': 200, 'mutation_probability': 0.9, 'elites_percentage': 0.2, 'pairs_percentage': 0.6000000000000001, 'number_of_class_swaps': 4, 'number_of_room_swaps': 3}. Best is trial 9 with value: 5.270833333333333.\n",
      "[I 2024-01-25 00:12:18,687] Trial 10 finished with value: 5.216666666666667 and parameters: {'population_size': 440, 'mutation_probability': 0.7000000000000001, 'elites_percentage': 0.15000000000000002, 'pairs_percentage': 0.4, 'number_of_class_swaps': 1, 'number_of_room_swaps': 1}. Best is trial 9 with value: 5.270833333333333.\n",
      "[I 2024-01-25 00:14:58,116] Trial 11 finished with value: 5.2558139534883725 and parameters: {'population_size': 350, 'mutation_probability': 0.55, 'elites_percentage': 0.2, 'pairs_percentage': 0.4, 'number_of_class_swaps': 15, 'number_of_room_swaps': 1}. Best is trial 9 with value: 5.270833333333333.\n",
      "[I 2024-01-25 00:19:36,100] Trial 12 finished with value: 5.282608695652174 and parameters: {'population_size': 490, 'mutation_probability': 0.75, 'elites_percentage': 0.2, 'pairs_percentage': 0.6000000000000001, 'number_of_class_swaps': 3, 'number_of_room_swaps': 5}. Best is trial 12 with value: 5.282608695652174.\n",
      "[I 2024-01-25 00:23:58,612] Trial 13 finished with value: 5.24 and parameters: {'population_size': 490, 'mutation_probability': 0.8, 'elites_percentage': 0.15000000000000002, 'pairs_percentage': 0.6000000000000001, 'number_of_class_swaps': 3, 'number_of_room_swaps': 7}. Best is trial 12 with value: 5.282608695652174.\n",
      "[I 2024-01-25 00:25:40,371] Trial 14 finished with value: 2.7083333333333335 and parameters: {'population_size': 170, 'mutation_probability': 1.0, 'elites_percentage': 0.2, 'pairs_percentage': 0.7000000000000001, 'number_of_class_swaps': 7, 'number_of_room_swaps': 6}. Best is trial 12 with value: 5.282608695652174.\n",
      "[I 2024-01-25 00:28:07,413] Trial 15 finished with value: 5.226415094339623 and parameters: {'population_size': 310, 'mutation_probability': 0.7000000000000001, 'elites_percentage': 0.15000000000000002, 'pairs_percentage': 0.5, 'number_of_class_swaps': 3, 'number_of_room_swaps': 5}. Best is trial 12 with value: 5.282608695652174.\n",
      "[I 2024-01-25 00:33:16,024] Trial 16 finished with value: 5.311111111111111 and parameters: {'population_size': 500, 'mutation_probability': 0.9, 'elites_percentage': 0.2, 'pairs_percentage': 0.7000000000000001, 'number_of_class_swaps': 3, 'number_of_room_swaps': 3}. Best is trial 16 with value: 5.311111111111111.\n",
      "[I 2024-01-25 00:38:10,890] Trial 17 finished with value: 5.211538461538462 and parameters: {'population_size': 480, 'mutation_probability': 0.7000000000000001, 'elites_percentage': 0.2, 'pairs_percentage': 0.7000000000000001, 'number_of_class_swaps': 2, 'number_of_room_swaps': 9}. Best is trial 16 with value: 5.311111111111111.\n",
      "[I 2024-01-25 00:41:26,103] Trial 18 finished with value: 5.260869565217392 and parameters: {'population_size': 430, 'mutation_probability': 0.55, 'elites_percentage': 0.1, 'pairs_percentage': 0.5, 'number_of_class_swaps': 10, 'number_of_room_swaps': 2}. Best is trial 16 with value: 5.311111111111111.\n",
      "[I 2024-01-25 00:45:30,453] Trial 19 finished with value: 5.288888888888889 and parameters: {'population_size': 420, 'mutation_probability': 0.8, 'elites_percentage': 0.15000000000000002, 'pairs_percentage': 0.7000000000000001, 'number_of_class_swaps': 6, 'number_of_room_swaps': 6}. Best is trial 16 with value: 5.311111111111111.\n",
      "[I 2024-01-25 00:50:18,043] Trial 20 finished with value: 5.25 and parameters: {'population_size': 420, 'mutation_probability': 0.9, 'elites_percentage': 0.15000000000000002, 'pairs_percentage': 0.9, 'number_of_class_swaps': 6, 'number_of_room_swaps': 6}. Best is trial 16 with value: 5.311111111111111.\n",
      "[I 2024-01-25 00:55:18,053] Trial 21 finished with value: 5.193548387096774 and parameters: {'population_size': 490, 'mutation_probability': 0.75, 'elites_percentage': 0.2, 'pairs_percentage': 0.7000000000000001, 'number_of_class_swaps': 5, 'number_of_room_swaps': 6}. Best is trial 16 with value: 5.311111111111111.\n",
      "[I 2024-01-25 00:59:39,304] Trial 22 finished with value: 2.792682926829268 and parameters: {'population_size': 450, 'mutation_probability': 0.65, 'elites_percentage': 0.15000000000000002, 'pairs_percentage': 0.7000000000000001, 'number_of_class_swaps': 2, 'number_of_room_swaps': 4}. Best is trial 16 with value: 5.311111111111111.\n",
      "[I 2024-01-25 01:03:16,137] Trial 23 finished with value: 5.157894736842105 and parameters: {'population_size': 390, 'mutation_probability': 0.9, 'elites_percentage': 0.2, 'pairs_percentage': 0.6000000000000001, 'number_of_class_swaps': 7, 'number_of_room_swaps': 8}. Best is trial 16 with value: 5.311111111111111.\n",
      "[I 2024-01-25 01:06:14,597] Trial 24 finished with value: 5.25531914893617 and parameters: {'population_size': 310, 'mutation_probability': 0.8, 'elites_percentage': 0.15000000000000002, 'pairs_percentage': 0.7000000000000001, 'number_of_class_swaps': 4, 'number_of_room_swaps': 3}. Best is trial 16 with value: 5.311111111111111.\n",
      "[I 2024-01-25 01:12:09,474] Trial 25 finished with value: 5.363636363636363 and parameters: {'population_size': 500, 'mutation_probability': 0.6, 'elites_percentage': 0.2, 'pairs_percentage': 0.9, 'number_of_class_swaps': 3, 'number_of_room_swaps': 5}. Best is trial 25 with value: 5.363636363636363.\n",
      "[I 2024-01-25 01:17:39,743] Trial 26 finished with value: 5.230769230769231 and parameters: {'population_size': 460, 'mutation_probability': 0.45000000000000007, 'elites_percentage': 0.1, 'pairs_percentage': 1.0, 'number_of_class_swaps': 5, 'number_of_room_swaps': 7}. Best is trial 25 with value: 5.363636363636363.\n",
      "[I 2024-01-25 01:22:14,409] Trial 27 finished with value: 5.26 and parameters: {'population_size': 410, 'mutation_probability': 0.6, 'elites_percentage': 0.15000000000000002, 'pairs_percentage': 0.9, 'number_of_class_swaps': 2, 'number_of_room_swaps': 2}. Best is trial 25 with value: 5.363636363636363.\n",
      "[I 2024-01-25 01:27:47,132] Trial 28 finished with value: 5.26 and parameters: {'population_size': 460, 'mutation_probability': 0.4, 'elites_percentage': 0.2, 'pairs_percentage': 0.9, 'number_of_class_swaps': 7, 'number_of_room_swaps': 5}. Best is trial 25 with value: 5.363636363636363.\n",
      "[I 2024-01-25 01:28:24,268] Trial 29 finished with value: 5.133333333333334 and parameters: {'population_size': 50, 'mutation_probability': 0.6, 'elites_percentage': 0.2, 'pairs_percentage': 1.0, 'number_of_class_swaps': 9, 'number_of_room_swaps': 8}. Best is trial 25 with value: 5.363636363636363.\n",
      "[I 2024-01-25 01:33:42,337] Trial 30 finished with value: 5.181818181818182 and parameters: {'population_size': 500, 'mutation_probability': 0.9500000000000001, 'elites_percentage': 0.15000000000000002, 'pairs_percentage': 0.8, 'number_of_class_swaps': 6, 'number_of_room_swaps': 7}. Best is trial 25 with value: 5.363636363636363.\n",
      "[I 2024-01-25 01:37:59,548] Trial 31 finished with value: 5.288888888888889 and parameters: {'population_size': 500, 'mutation_probability': 0.8, 'elites_percentage': 0.2, 'pairs_percentage': 0.5, 'number_of_class_swaps': 3, 'number_of_room_swaps': 5}. Best is trial 25 with value: 5.363636363636363.\n",
      "[I 2024-01-25 01:41:22,351] Trial 32 finished with value: 5.230769230769231 and parameters: {'population_size': 400, 'mutation_probability': 0.8, 'elites_percentage': 0.2, 'pairs_percentage': 0.5, 'number_of_class_swaps': 4, 'number_of_room_swaps': 5}. Best is trial 25 with value: 5.363636363636363.\n",
      "[I 2024-01-25 01:46:29,465] Trial 33 finished with value: 5.254545454545455 and parameters: {'population_size': 460, 'mutation_probability': 0.85, 'elites_percentage': 0.2, 'pairs_percentage': 0.8, 'number_of_class_swaps': 1, 'number_of_room_swaps': 4}. Best is trial 25 with value: 5.363636363636363.\n",
      "[I 2024-01-25 01:50:20,674] Trial 34 finished with value: 5.288888888888889 and parameters: {'population_size': 500, 'mutation_probability': 0.9500000000000001, 'elites_percentage': 0.2, 'pairs_percentage': 0.4, 'number_of_class_swaps': 5, 'number_of_room_swaps': 2}. Best is trial 25 with value: 5.363636363636363.\n",
      "[I 2024-01-25 01:56:15,418] Trial 35 finished with value: 5.2727272727272725 and parameters: {'population_size': 470, 'mutation_probability': 0.35, 'elites_percentage': 0.2, 'pairs_percentage': 1.0, 'number_of_class_swaps': 3, 'number_of_room_swaps': 9}. Best is trial 25 with value: 5.363636363636363.\n",
      "[I 2024-01-25 02:00:49,810] Trial 36 finished with value: 5.16 and parameters: {'population_size': 430, 'mutation_probability': 0.85, 'elites_percentage': 0.15000000000000002, 'pairs_percentage': 0.8, 'number_of_class_swaps': 2, 'number_of_room_swaps': 6}. Best is trial 25 with value: 5.363636363636363.\n",
      "[I 2024-01-25 02:04:20,288] Trial 37 finished with value: 5.245283018867925 and parameters: {'population_size': 330, 'mutation_probability': 0.75, 'elites_percentage': 0.05, 'pairs_percentage': 0.9, 'number_of_class_swaps': 6, 'number_of_room_swaps': 4}. Best is trial 25 with value: 5.363636363636363.\n",
      "[I 2024-01-25 02:08:13,688] Trial 38 finished with value: 2.8 and parameters: {'population_size': 380, 'mutation_probability': 0.5, 'elites_percentage': 0.1, 'pairs_percentage': 0.8, 'number_of_class_swaps': 8, 'number_of_room_swaps': 3}. Best is trial 25 with value: 5.363636363636363.\n",
      "[I 2024-01-25 02:12:42,242] Trial 39 finished with value: 5.239130434782608 and parameters: {'population_size': 440, 'mutation_probability': 0.65, 'elites_percentage': 0.2, 'pairs_percentage': 0.7000000000000001, 'number_of_class_swaps': 12, 'number_of_room_swaps': 15}. Best is trial 25 with value: 5.363636363636363.\n",
      "[I 2024-01-25 02:14:46,297] Trial 40 finished with value: 5.148648648648648 and parameters: {'population_size': 260, 'mutation_probability': 0.9500000000000001, 'elites_percentage': 0.15000000000000002, 'pairs_percentage': 0.5, 'number_of_class_swaps': 5, 'number_of_room_swaps': 10}. Best is trial 25 with value: 5.363636363636363.\n",
      "[I 2024-01-25 02:18:37,493] Trial 41 finished with value: 5.325 and parameters: {'population_size': 500, 'mutation_probability': 0.9500000000000001, 'elites_percentage': 0.2, 'pairs_percentage': 0.4, 'number_of_class_swaps': 5, 'number_of_room_swaps': 2}. Best is trial 25 with value: 5.363636363636363.\n",
      "[I 2024-01-25 02:22:14,755] Trial 42 finished with value: 5.314285714285714 and parameters: {'population_size': 470, 'mutation_probability': 0.85, 'elites_percentage': 0.2, 'pairs_percentage': 0.4, 'number_of_class_swaps': 4, 'number_of_room_swaps': 2}. Best is trial 25 with value: 5.363636363636363.\n",
      "[I 2024-01-25 02:25:51,992] Trial 43 finished with value: 5.382352941176471 and parameters: {'population_size': 470, 'mutation_probability': 1.0, 'elites_percentage': 0.2, 'pairs_percentage': 0.4, 'number_of_class_swaps': 4, 'number_of_room_swaps': 1}. Best is trial 43 with value: 5.382352941176471.\n",
      "[I 2024-01-25 02:29:28,691] Trial 44 finished with value: 5.393939393939394 and parameters: {'population_size': 470, 'mutation_probability': 1.0, 'elites_percentage': 0.2, 'pairs_percentage': 0.4, 'number_of_class_swaps': 4, 'number_of_room_swaps': 1}. Best is trial 44 with value: 5.393939393939394.\n",
      "[I 2024-01-25 02:33:07,056] Trial 45 finished with value: 5.371428571428572 and parameters: {'population_size': 470, 'mutation_probability': 1.0, 'elites_percentage': 0.2, 'pairs_percentage': 0.4, 'number_of_class_swaps': 4, 'number_of_room_swaps': 1}. Best is trial 44 with value: 5.393939393939394.\n",
      "[I 2024-01-25 02:36:45,032] Trial 46 finished with value: 5.358974358974359 and parameters: {'population_size': 470, 'mutation_probability': 1.0, 'elites_percentage': 0.2, 'pairs_percentage': 0.4, 'number_of_class_swaps': 4, 'number_of_room_swaps': 1}. Best is trial 44 with value: 5.393939393939394.\n",
      "[I 2024-01-25 02:40:13,389] Trial 47 finished with value: 2.9516129032258065 and parameters: {'population_size': 450, 'mutation_probability': 1.0, 'elites_percentage': 0.2, 'pairs_percentage': 0.4, 'number_of_class_swaps': 4, 'number_of_room_swaps': 1}. Best is trial 44 with value: 5.393939393939394.\n",
      "[I 2024-01-25 02:42:55,863] Trial 48 finished with value: 2.6515151515151514 and parameters: {'population_size': 360, 'mutation_probability': 0.1, 'elites_percentage': 0.2, 'pairs_percentage': 0.4, 'number_of_class_swaps': 1, 'number_of_room_swaps': 1}. Best is trial 44 with value: 5.393939393939394.\n",
      "[I 2024-01-25 02:44:35,396] Trial 49 finished with value: 5.342105263157895 and parameters: {'population_size': 220, 'mutation_probability': 1.0, 'elites_percentage': 0.2, 'pairs_percentage': 0.4, 'number_of_class_swaps': 2, 'number_of_room_swaps': 1}. Best is trial 44 with value: 5.393939393939394.\n",
      "[I 2024-01-25 02:45:41,166] Trial 50 finished with value: 5.1466666666666665 and parameters: {'population_size': 160, 'mutation_probability': 0.25, 'elites_percentage': 0.05, 'pairs_percentage': 0.5, 'number_of_class_swaps': 4, 'number_of_room_swaps': 1}. Best is trial 44 with value: 5.393939393939394.\n",
      "[I 2024-01-25 02:47:20,683] Trial 51 finished with value: 2.802325581395349 and parameters: {'population_size': 220, 'mutation_probability': 1.0, 'elites_percentage': 0.2, 'pairs_percentage': 0.4, 'number_of_class_swaps': 2, 'number_of_room_swaps': 1}. Best is trial 44 with value: 5.393939393939394.\n",
      "[I 2024-01-25 02:48:46,754] Trial 52 finished with value: 5.244897959183674 and parameters: {'population_size': 190, 'mutation_probability': 1.0, 'elites_percentage': 0.2, 'pairs_percentage': 0.4, 'number_of_class_swaps': 3, 'number_of_room_swaps': 2}. Best is trial 44 with value: 5.393939393939394.\n",
      "[I 2024-01-25 02:50:55,121] Trial 53 finished with value: 2.7653061224489797 and parameters: {'population_size': 280, 'mutation_probability': 0.9500000000000001, 'elites_percentage': 0.2, 'pairs_percentage': 0.4, 'number_of_class_swaps': 2, 'number_of_room_swaps': 1}. Best is trial 44 with value: 5.393939393939394.\n",
      "[I 2024-01-25 02:54:34,838] Trial 54 finished with value: 5.2 and parameters: {'population_size': 480, 'mutation_probability': 1.0, 'elites_percentage': 0.2, 'pairs_percentage': 0.4, 'number_of_class_swaps': 1, 'number_of_room_swaps': 3}. Best is trial 44 with value: 5.393939393939394.\n",
      "[I 2024-01-25 02:55:44,228] Trial 55 finished with value: 2.76 and parameters: {'population_size': 140, 'mutation_probability': 0.9, 'elites_percentage': 0.2, 'pairs_percentage': 0.5, 'number_of_class_swaps': 3, 'number_of_room_swaps': 1}. Best is trial 44 with value: 5.393939393939394.\n",
      "[I 2024-01-25 02:57:24,308] Trial 56 finished with value: 5.309523809523809 and parameters: {'population_size': 220, 'mutation_probability': 1.0, 'elites_percentage': 0.2, 'pairs_percentage': 0.4, 'number_of_class_swaps': 4, 'number_of_room_swaps': 2}. Best is trial 44 with value: 5.393939393939394.\n",
      "[I 2024-01-25 03:01:09,009] Trial 57 finished with value: 5.34375 and parameters: {'population_size': 440, 'mutation_probability': 0.9, 'elites_percentage': 0.2, 'pairs_percentage': 0.5, 'number_of_class_swaps': 3, 'number_of_room_swaps': 2}. Best is trial 44 with value: 5.393939393939394.\n",
      "[I 2024-01-25 03:04:53,735] Trial 58 finished with value: 5.333333333333333 and parameters: {'population_size': 440, 'mutation_probability': 0.9, 'elites_percentage': 0.2, 'pairs_percentage': 0.5, 'number_of_class_swaps': 14, 'number_of_room_swaps': 3}. Best is trial 44 with value: 5.393939393939394.\n",
      "[I 2024-01-25 03:08:59,932] Trial 59 finished with value: 5.451612903225806 and parameters: {'population_size': 480, 'mutation_probability': 0.9500000000000001, 'elites_percentage': 0.2, 'pairs_percentage': 0.5, 'number_of_class_swaps': 5, 'number_of_room_swaps': 2}. Best is trial 59 with value: 5.451612903225806.\n",
      "[I 2024-01-25 03:12:40,975] Trial 60 finished with value: 5.224489795918367 and parameters: {'population_size': 480, 'mutation_probability': 0.9500000000000001, 'elites_percentage': 0.2, 'pairs_percentage': 0.4, 'number_of_class_swaps': 7, 'number_of_room_swaps': 3}. Best is trial 59 with value: 5.451612903225806.\n",
      "[I 2024-01-25 03:16:40,255] Trial 61 finished with value: 5.27906976744186 and parameters: {'population_size': 470, 'mutation_probability': 0.9500000000000001, 'elites_percentage': 0.2, 'pairs_percentage': 0.5, 'number_of_class_swaps': 5, 'number_of_room_swaps': 2}. Best is trial 59 with value: 5.451612903225806.\n",
      "[I 2024-01-25 03:20:30,440] Trial 62 finished with value: 2.875 and parameters: {'population_size': 410, 'mutation_probability': 0.85, 'elites_percentage': 0.2, 'pairs_percentage': 0.6000000000000001, 'number_of_class_swaps': 3, 'number_of_room_swaps': 1}. Best is trial 59 with value: 5.451612903225806.\n",
      "[I 2024-01-25 03:24:42,498] Trial 63 finished with value: 5.352941176470588 and parameters: {'population_size': 450, 'mutation_probability': 0.9, 'elites_percentage': 0.2, 'pairs_percentage': 0.6000000000000001, 'number_of_class_swaps': 4, 'number_of_room_swaps': 2}. Best is trial 59 with value: 5.451612903225806.\n",
      "[I 2024-01-25 03:29:13,243] Trial 64 finished with value: 5.323529411764706 and parameters: {'population_size': 480, 'mutation_probability': 1.0, 'elites_percentage': 0.2, 'pairs_percentage': 0.6000000000000001, 'number_of_class_swaps': 6, 'number_of_room_swaps': 4}. Best is trial 59 with value: 5.451612903225806.\n",
      "[I 2024-01-25 03:33:11,262] Trial 65 finished with value: 5.382352941176471 and parameters: {'population_size': 420, 'mutation_probability': 0.9500000000000001, 'elites_percentage': 0.2, 'pairs_percentage': 0.6000000000000001, 'number_of_class_swaps': 4, 'number_of_room_swaps': 1}. Best is trial 59 with value: 5.451612903225806.\n",
      "[I 2024-01-25 03:36:49,168] Trial 66 finished with value: 5.285714285714286 and parameters: {'population_size': 430, 'mutation_probability': 0.9500000000000001, 'elites_percentage': 0.2, 'pairs_percentage': 0.5, 'number_of_class_swaps': 5, 'number_of_room_swaps': 1}. Best is trial 59 with value: 5.451612903225806.\n",
      "[I 2024-01-25 03:40:08,830] Trial 67 finished with value: 5.2926829268292686 and parameters: {'population_size': 460, 'mutation_probability': 1.0, 'elites_percentage': 0.15000000000000002, 'pairs_percentage': 0.4, 'number_of_class_swaps': 4, 'number_of_room_swaps': 3}. Best is trial 59 with value: 5.451612903225806.\n",
      "[I 2024-01-25 03:43:38,071] Trial 68 finished with value: 5.282608695652174 and parameters: {'population_size': 410, 'mutation_probability': 0.85, 'elites_percentage': 0.2, 'pairs_percentage': 0.5, 'number_of_class_swaps': 6, 'number_of_room_swaps': 1}. Best is trial 59 with value: 5.451612903225806.\n",
      "[I 2024-01-25 03:47:24,974] Trial 69 finished with value: 5.333333333333333 and parameters: {'population_size': 490, 'mutation_probability': 0.9500000000000001, 'elites_percentage': 0.2, 'pairs_percentage': 0.4, 'number_of_class_swaps': 4, 'number_of_room_swaps': 2}. Best is trial 59 with value: 5.451612903225806.\n",
      "[I 2024-01-25 03:51:13,130] Trial 70 finished with value: 5.413793103448276 and parameters: {'population_size': 470, 'mutation_probability': 0.9, 'elites_percentage': 0.15000000000000002, 'pairs_percentage': 0.5, 'number_of_class_swaps': 9, 'number_of_room_swaps': 1}. Best is trial 59 with value: 5.451612903225806.\n",
      "[I 2024-01-25 03:54:59,848] Trial 71 finished with value: 2.9375 and parameters: {'population_size': 470, 'mutation_probability': 0.9, 'elites_percentage': 0.15000000000000002, 'pairs_percentage': 0.5, 'number_of_class_swaps': 11, 'number_of_room_swaps': 1}. Best is trial 59 with value: 5.451612903225806.\n",
      "[I 2024-01-25 03:59:30,633] Trial 72 finished with value: 5.411764705882353 and parameters: {'population_size': 480, 'mutation_probability': 1.0, 'elites_percentage': 0.2, 'pairs_percentage': 0.6000000000000001, 'number_of_class_swaps': 5, 'number_of_room_swaps': 1}. Best is trial 59 with value: 5.451612903225806.\n",
      "[I 2024-01-25 04:03:19,847] Trial 73 finished with value: 5.323529411764706 and parameters: {'population_size': 450, 'mutation_probability': 0.9500000000000001, 'elites_percentage': 0.1, 'pairs_percentage': 0.6000000000000001, 'number_of_class_swaps': 9, 'number_of_room_swaps': 2}. Best is trial 59 with value: 5.451612903225806.\n",
      "[I 2024-01-25 04:07:43,283] Trial 74 finished with value: 5.27906976744186 and parameters: {'population_size': 490, 'mutation_probability': 1.0, 'elites_percentage': 0.15000000000000002, 'pairs_percentage': 0.6000000000000001, 'number_of_class_swaps': 9, 'number_of_room_swaps': 3}. Best is trial 59 with value: 5.451612903225806.\n",
      "[I 2024-01-25 04:11:21,457] Trial 75 finished with value: 5.319148936170213 and parameters: {'population_size': 390, 'mutation_probability': 0.9500000000000001, 'elites_percentage': 0.2, 'pairs_percentage': 0.6000000000000001, 'number_of_class_swaps': 7, 'number_of_room_swaps': 1}. Best is trial 59 with value: 5.451612903225806.\n",
      "[I 2024-01-25 04:14:55,545] Trial 76 finished with value: 5.235294117647059 and parameters: {'population_size': 420, 'mutation_probability': 0.85, 'elites_percentage': 0.2, 'pairs_percentage': 0.5, 'number_of_class_swaps': 10, 'number_of_room_swaps': 2}. Best is trial 59 with value: 5.451612903225806.\n",
      "[I 2024-01-25 04:19:28,220] Trial 77 finished with value: 5.142857142857143 and parameters: {'population_size': 480, 'mutation_probability': 0.9, 'elites_percentage': 0.2, 'pairs_percentage': 0.6000000000000001, 'number_of_class_swaps': 5, 'number_of_room_swaps': 14}. Best is trial 59 with value: 5.451612903225806.\n",
      "[I 2024-01-25 04:24:35,370] Trial 78 finished with value: 5.235294117647059 and parameters: {'population_size': 500, 'mutation_probability': 0.35, 'elites_percentage': 0.2, 'pairs_percentage': 0.7000000000000001, 'number_of_class_swaps': 10, 'number_of_room_swaps': 3}. Best is trial 59 with value: 5.451612903225806.\n",
      "[I 2024-01-25 04:28:19,068] Trial 79 finished with value: 5.229166666666667 and parameters: {'population_size': 460, 'mutation_probability': 0.8, 'elites_percentage': 0.15000000000000002, 'pairs_percentage': 0.5, 'number_of_class_swaps': 8, 'number_of_room_swaps': 4}. Best is trial 59 with value: 5.451612903225806.\n",
      "[I 2024-01-25 04:32:53,767] Trial 80 finished with value: 5.285714285714286 and parameters: {'population_size': 490, 'mutation_probability': 0.9500000000000001, 'elites_percentage': 0.2, 'pairs_percentage': 0.6000000000000001, 'number_of_class_swaps': 5, 'number_of_room_swaps': 2}. Best is trial 59 with value: 5.451612903225806.\n",
      "[I 2024-01-25 04:36:30,302] Trial 81 finished with value: 5.311111111111111 and parameters: {'population_size': 470, 'mutation_probability': 1.0, 'elites_percentage': 0.2, 'pairs_percentage': 0.4, 'number_of_class_swaps': 4, 'number_of_room_swaps': 1}. Best is trial 59 with value: 5.451612903225806.\n",
      "[I 2024-01-25 04:39:53,745] Trial 82 finished with value: 2.8529411764705883 and parameters: {'population_size': 440, 'mutation_probability': 1.0, 'elites_percentage': 0.2, 'pairs_percentage': 0.4, 'number_of_class_swaps': 3, 'number_of_room_swaps': 1}. Best is trial 59 with value: 5.451612903225806.\n",
      "[I 2024-01-25 04:42:47,770] Trial 83 finished with value: 5.288888888888889 and parameters: {'population_size': 430, 'mutation_probability': 0.9500000000000001, 'elites_percentage': 0.1, 'pairs_percentage': 0.4, 'number_of_class_swaps': 6, 'number_of_room_swaps': 1}. Best is trial 59 with value: 5.451612903225806.\n",
      "[I 2024-01-25 04:46:19,556] Trial 84 finished with value: 2.802325581395349 and parameters: {'population_size': 460, 'mutation_probability': 0.5, 'elites_percentage': 0.2, 'pairs_percentage': 0.4, 'number_of_class_swaps': 5, 'number_of_room_swaps': 2}. Best is trial 59 with value: 5.451612903225806.\n",
      "[I 2024-01-25 04:50:12,545] Trial 85 finished with value: 5.3023255813953485 and parameters: {'population_size': 500, 'mutation_probability': 1.0, 'elites_percentage': 0.2, 'pairs_percentage': 0.4, 'number_of_class_swaps': 8, 'number_of_room_swaps': 1}. Best is trial 59 with value: 5.451612903225806.\n",
      "[I 2024-01-25 04:54:18,492] Trial 86 finished with value: 5.365853658536586 and parameters: {'population_size': 480, 'mutation_probability': 0.75, 'elites_percentage': 0.2, 'pairs_percentage': 0.5, 'number_of_class_swaps': 4, 'number_of_room_swaps': 1}. Best is trial 59 with value: 5.451612903225806.\n",
      "[I 2024-01-25 04:58:27,448] Trial 87 finished with value: 5.2894736842105265 and parameters: {'population_size': 490, 'mutation_probability': 0.65, 'elites_percentage': 0.2, 'pairs_percentage': 0.5, 'number_of_class_swaps': 4, 'number_of_room_swaps': 2}. Best is trial 59 with value: 5.451612903225806.\n",
      "[I 2024-01-25 05:02:32,964] Trial 88 finished with value: 5.190476190476191 and parameters: {'population_size': 480, 'mutation_probability': 0.55, 'elites_percentage': 0.2, 'pairs_percentage': 0.5, 'number_of_class_swaps': 3, 'number_of_room_swaps': 12}. Best is trial 59 with value: 5.451612903225806.\n",
      "[I 2024-01-25 05:06:45,638] Trial 89 finished with value: 5.352941176470588 and parameters: {'population_size': 450, 'mutation_probability': 0.75, 'elites_percentage': 0.2, 'pairs_percentage': 0.6000000000000001, 'number_of_class_swaps': 5, 'number_of_room_swaps': 1}. Best is trial 59 with value: 5.451612903225806.\n",
      "[I 2024-01-25 05:07:24,506] Trial 90 finished with value: 2.77027027027027 and parameters: {'population_size': 80, 'mutation_probability': 0.7000000000000001, 'elites_percentage': 0.2, 'pairs_percentage': 0.5, 'number_of_class_swaps': 3, 'number_of_room_swaps': 2}. Best is trial 59 with value: 5.451612903225806.\n",
      "[I 2024-01-25 05:11:23,432] Trial 91 finished with value: 5.428571428571429 and parameters: {'population_size': 470, 'mutation_probability': 0.6, 'elites_percentage': 0.2, 'pairs_percentage': 0.5, 'number_of_class_swaps': 4, 'number_of_room_swaps': 1}. Best is trial 59 with value: 5.451612903225806.\n",
      "[I 2024-01-25 05:15:18,893] Trial 92 finished with value: 5.324324324324325 and parameters: {'population_size': 460, 'mutation_probability': 0.6, 'elites_percentage': 0.2, 'pairs_percentage': 0.5, 'number_of_class_swaps': 4, 'number_of_room_swaps': 1}. Best is trial 59 with value: 5.451612903225806.\n",
      "[I 2024-01-25 05:19:28,740] Trial 93 finished with value: 5.325581395348837 and parameters: {'population_size': 490, 'mutation_probability': 0.55, 'elites_percentage': 0.2, 'pairs_percentage': 0.5, 'number_of_class_swaps': 5, 'number_of_room_swaps': 1}. Best is trial 59 with value: 5.451612903225806.\n",
      "[I 2024-01-25 05:25:11,054] Trial 94 finished with value: 5.3125 and parameters: {'population_size': 480, 'mutation_probability': 0.7000000000000001, 'elites_percentage': 0.2, 'pairs_percentage': 0.9, 'number_of_class_swaps': 4, 'number_of_room_swaps': 2}. Best is trial 59 with value: 5.451612903225806.\n",
      "[I 2024-01-25 05:30:35,131] Trial 95 finished with value: 5.25 and parameters: {'population_size': 420, 'mutation_probability': 0.65, 'elites_percentage': 0.2, 'pairs_percentage': 1.0, 'number_of_class_swaps': 2, 'number_of_room_swaps': 1}. Best is trial 59 with value: 5.451612903225806.\n",
      "[I 2024-01-25 05:34:29,149] Trial 96 finished with value: 5.2926829268292686 and parameters: {'population_size': 450, 'mutation_probability': 0.6, 'elites_percentage': 0.2, 'pairs_percentage': 0.5, 'number_of_class_swaps': 3, 'number_of_room_swaps': 2}. Best is trial 59 with value: 5.451612903225806.\n",
      "[I 2024-01-25 05:38:52,958] Trial 97 finished with value: 5.17910447761194 and parameters: {'population_size': 470, 'mutation_probability': 0.9500000000000001, 'elites_percentage': 0.2, 'pairs_percentage': 0.6000000000000001, 'number_of_class_swaps': 5, 'number_of_room_swaps': 7}. Best is trial 59 with value: 5.451612903225806.\n",
      "[I 2024-01-25 05:42:36,486] Trial 98 finished with value: 5.261904761904762 and parameters: {'population_size': 440, 'mutation_probability': 0.5, 'elites_percentage': 0.2, 'pairs_percentage': 0.5, 'number_of_class_swaps': 2, 'number_of_room_swaps': 9}. Best is trial 59 with value: 5.451612903225806.\n",
      "[I 2024-01-25 05:47:09,928] Trial 99 finished with value: 5.25 and parameters: {'population_size': 500, 'mutation_probability': 0.9, 'elites_percentage': 0.05, 'pairs_percentage': 0.7000000000000001, 'number_of_class_swaps': 6, 'number_of_room_swaps': 3}. Best is trial 59 with value: 5.451612903225806.\n"
     ]
    }
   ],
   "source": [
    "study.optimize(objective, n_trials = 100)"
   ]
  },
  {
   "cell_type": "code",
   "execution_count": 20,
   "metadata": {},
   "outputs": [],
   "source": [
    "best_trial = study.best_trial"
   ]
  },
  {
   "cell_type": "code",
   "execution_count": 21,
   "metadata": {},
   "outputs": [],
   "source": [
    "best_params = best_trial.params"
   ]
  },
  {
   "cell_type": "code",
   "execution_count": 22,
   "metadata": {},
   "outputs": [
    {
     "data": {
      "text/plain": [
       "{'population_size': 480,\n",
       " 'mutation_probability': 0.9500000000000001,\n",
       " 'elites_percentage': 0.2,\n",
       " 'pairs_percentage': 0.5,\n",
       " 'number_of_class_swaps': 5,\n",
       " 'number_of_room_swaps': 2}"
      ]
     },
     "execution_count": 22,
     "metadata": {},
     "output_type": "execute_result"
    }
   ],
   "source": [
    "best_params"
   ]
  }
 ],
 "metadata": {
  "kernelspec": {
   "display_name": ".venv",
   "language": "python",
   "name": "python3"
  },
  "language_info": {
   "codemirror_mode": {
    "name": "ipython",
    "version": 3
   },
   "file_extension": ".py",
   "mimetype": "text/x-python",
   "name": "python",
   "nbconvert_exporter": "python",
   "pygments_lexer": "ipython3",
   "version": "3.11.6"
  }
 },
 "nbformat": 4,
 "nbformat_minor": 2
}

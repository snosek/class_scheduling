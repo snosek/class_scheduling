{
 "cells": [
  {
   "cell_type": "code",
   "execution_count": 1,
   "metadata": {},
   "outputs": [],
   "source": [
    "from backend.genetic_algorithm import *"
   ]
  },
  {
   "cell_type": "code",
   "execution_count": 2,
   "metadata": {},
   "outputs": [],
   "source": [
    "rooms = [\n",
    "    Room(\"B9-F3\", 60, \"normal\"),\n",
    "    Room(\"B9-F6\", 30, \"normal\"),\n",
    "    Room(\"B9-F7\", 60, \"normal\"),\n",
    "    Room(\"B9-F8\", 60, \"normal\"),\n",
    "    Room(\"B9-51\", 30, \"laboratories\"),\n",
    "    Room(\"B9-52\", 60, \"normal\"),\n",
    "    Room(\"B9-53\", 30, \"laboratories\"),\n",
    "    Room(\"B14-1.12\", 30, \"laboratories\"),\n",
    "]\n",
    "\n",
    "program = Data(\"program_testowy.xlsx\")\n",
    "\n",
    "professors = program.create_professors()\n",
    "\n",
    "courses = program.create_courses(professors)\n",
    "\n",
    "MS_sem_1_gr_1 = Students(0, 1, 1, \"matematyka stosowana\")\n",
    "MS_sem_1_gr_2 = Students(1, 1, 2, \"matematyka stosowana\")\n",
    "MS_sem_2_gr_1 = Students(2, 2, 1, \"matematyka stosowana\")\n",
    "MS_sem_2_gr_2 = Students(3, 2, 2, \"matematyka stosowana\")\n",
    "students = [MS_sem_1_gr_1, MS_sem_1_gr_2, MS_sem_2_gr_1, MS_sem_2_gr_2]"
   ]
  },
  {
   "cell_type": "code",
   "execution_count": 3,
   "metadata": {},
   "outputs": [],
   "source": [
    "pop1 = Population(2, professors, courses, rooms, students)"
   ]
  },
  {
   "cell_type": "code",
   "execution_count": 4,
   "metadata": {},
   "outputs": [
    {
     "name": "stdout",
     "output_type": "stream",
     "text": [
      "8\n",
      "6\n",
      "0.1111111111111111\n",
      "0.14285714285714285\n"
     ]
    }
   ],
   "source": [
    "pop1.population[0].calculate_and_set_fitness()\n",
    "pop1.population[1].calculate_and_set_fitness()\n",
    "print(pop1.population[0].number_of_conflicts)\n",
    "print(pop1.population[1].number_of_conflicts)\n",
    "\n",
    "print(pop1.population[0].fitness)\n",
    "print(pop1.population[1].fitness)"
   ]
  },
  {
   "cell_type": "code",
   "execution_count": 5,
   "metadata": {},
   "outputs": [
    {
     "name": "stdout",
     "output_type": "stream",
     "text": [
      "Kierunek matematyka stosowana Semestr 1 Grupa 1:\n",
      "Analiza_matematyczna_I_lecture_1, B9-F7, Wojciech Kryszewski, Day: 4, hour: 4\n",
      "Analiza_matematyczna_I_lecture_2, B9-52, Wojciech Kryszewski, Day: 3, hour: 3\n",
      "Analiza_matematyczna_I_practicals_1_grp_1, B9-52, Włodzimierz Fechner, Day: 3, hour: 0\n",
      "Analiza_matematyczna_I_practicals_2_grp_1, B9-F3, Włodzimierz Fechner, Day: 2, hour: 0\n",
      "Algebra_liniowa_z_geometrią_analityczną_I_lecture_1, B9-52, Filip Strobin, Day: 0, hour: 3\n",
      "Algebra_liniowa_z_geometrią_analityczną_I_practicals_1_grp_1, B9-F3, Filip Strobin, Day: 4, hour: 1\n",
      "Technologie_informatyczne_I_laboratories_1_grp_1, B14-1.12, Daniel Arendt, Day: 0, hour: 1\n",
      "Wstęp_do_obliczeń_symbolicznych_laboratories_1_grp_1, B14-1.12, Jacek Rogowski, Day: 0, hour: 0\n",
      "Wstęp_do_logiki_i_teorii_mnogości_lecture_1, B9-F7, Szymon Głąb, Day: 1, hour: 1\n",
      "Wstęp_do_logiki_i_teorii_mnogości_practicals_1_grp_1, B9-F6, Szymon Głąb, Day: 2, hour: 3\n",
      "------------------------------------------------------------\n",
      "Kierunek matematyka stosowana Semestr 1 Grupa 2:\n",
      "Analiza_matematyczna_I_lecture_1, B9-F7, Wojciech Kryszewski, Day: 4, hour: 4\n",
      "Analiza_matematyczna_I_lecture_2, B9-52, Wojciech Kryszewski, Day: 3, hour: 3\n",
      "Analiza_matematyczna_I_practicals_1_grp_2, B9-F3, Marek Galewski, Day: 1, hour: 0\n",
      "Analiza_matematyczna_I_practicals_2_grp_2, B9-F8, Marek Galewski, Day: 2, hour: 4\n",
      "Algebra_liniowa_z_geometrią_analityczną_I_lecture_1, B9-52, Filip Strobin, Day: 0, hour: 3\n",
      "Algebra_liniowa_z_geometrią_analityczną_I_practicals_1_grp_2, B9-F7, Bogdan Balcerzak, Day: 3, hour: 4\n",
      "Technologie_informatyczne_I_laboratories_1_grp_2, B9-51, Błażej Dziuba, Day: 0, hour: 0\n",
      "Wstęp_do_obliczeń_symbolicznych_laboratories_1_grp_2, B9-53, Henryk Dębiński, Day: 0, hour: 4\n",
      "Wstęp_do_logiki_i_teorii_mnogości_lecture_1, B9-F7, Szymon Głąb, Day: 1, hour: 1\n",
      "Wstęp_do_logiki_i_teorii_mnogości_practicals_1_grp_2, B9-F6, Marek Bienias, Day: 3, hour: 2\n",
      "------------------------------------------------------------\n",
      "Kierunek matematyka stosowana Semestr 2 Grupa 1:\n",
      "Topologia_przestrzeni_metrycznych_lecture_1, B9-52, Jacek Jachymski, Day: 3, hour: 4\n",
      "Topologia_przestrzeni_metrycznych_practicals_1_grp_1, B9-52, Jacek Jachymski, Day: 4, hour: 0\n",
      "Technologie_informatyczne_II_laboratories_1_grp_1, B9-51, Marcin Ostrowski, Day: 3, hour: 3\n",
      "Algebra_liniowa_z_geometrią_analityczną_II_lecture_1, B9-52, Bogdan Balcerzak, Day: 0, hour: 0\n",
      "Algebra_liniowa_z_geometrią_analityczną_II_practicals_1_grp_1, B9-52, Robert Stegliński, Day: 3, hour: 0\n",
      "Komputerowe_obliczenia_matematyczne_laboratories_1_grp_1, B9-53, Małgorzata Pietruk, Day: 1, hour: 5\n",
      "Podstawy_ekonomii_i_przedsiębiorczości_lecture_1, B9-F6, Marek Martin, Day: 1, hour: 1\n",
      "Podstawy_probabilistyki_lecture_1, B9-F7, Lesław Gajek, Day: 4, hour: 4\n",
      "Podstawy_probabilistyki_practicals_1_grp_1, B9-F8, Filip Strobin, Day: 0, hour: 3\n",
      "Analiza_matematyczna_II_lecture_1, B9-F3, Wojciech Kryszewski, Day: 4, hour: 1\n",
      "Analiza_matematyczna_II_practicals_1_grp_1, B9-F7, Wojciech Kryszewski, Day: 0, hour: 1\n",
      "Analiza_matematyczna_II_practicals_2_grp_1, B9-F3, Wojciech Kryszewski, Day: 2, hour: 2\n",
      "------------------------------------------------------------\n",
      "Kierunek matematyka stosowana Semestr 2 Grupa 2:\n",
      "Topologia_przestrzeni_metrycznych_lecture_1, B9-52, Jacek Jachymski, Day: 3, hour: 4\n",
      "Topologia_przestrzeni_metrycznych_practicals_1_grp_2, B9-F3, Bogdan Balcerzak, Day: 0, hour: 1\n",
      "Technologie_informatyczne_II_laboratories_1_grp_2, B14-1.12, Feliks Kurp, Day: 4, hour: 3\n",
      "Algebra_liniowa_z_geometrią_analityczną_II_lecture_1, B9-52, Bogdan Balcerzak, Day: 0, hour: 0\n",
      "Algebra_liniowa_z_geometrią_analityczną_II_practicals_1_grp_2, B9-F8, Bogdan Balcerzak, Day: 2, hour: 1\n",
      "Komputerowe_obliczenia_matematyczne_laboratories_1_grp_2, B14-1.12, Henryk Dębiński, Day: 2, hour: 0\n",
      "Podstawy_ekonomii_i_przedsiębiorczości_lecture_1, B9-F6, Marek Martin, Day: 1, hour: 1\n",
      "Podstawy_probabilistyki_lecture_1, B9-F7, Lesław Gajek, Day: 4, hour: 4\n",
      "Podstawy_probabilistyki_practicals_1_grp_2, B9-F8, Filip Strobin, Day: 1, hour: 5\n",
      "Analiza_matematyczna_II_lecture_1, B9-F3, Wojciech Kryszewski, Day: 4, hour: 1\n",
      "Analiza_matematyczna_II_practicals_1_grp_2, B9-F6, Wojciech Kryszewski, Day: 1, hour: 3\n",
      "Analiza_matematyczna_II_practicals_2_grp_2, B9-F3, Wojciech Kryszewski, Day: 4, hour: 5\n",
      "------------------------------------------------------------\n"
     ]
    }
   ],
   "source": [
    "for group in students:\n",
    "    print(f\"{group}:\")\n",
    "    for item in pop1.population[0].classes:\n",
    "        if group in item.student_groups:\n",
    "            print(item)\n",
    "    print(\"-\"*60)"
   ]
  },
  {
   "cell_type": "code",
   "execution_count": 27,
   "metadata": {},
   "outputs": [],
   "source": [
    "pop1.population[0].visualize_groups(\"plan_dla_studentow\")"
   ]
  },
  {
   "cell_type": "code",
   "execution_count": 26,
   "metadata": {},
   "outputs": [
    {
     "name": "stdout",
     "output_type": "stream",
     "text": [
      "Kierunek matematyka stosowana Semestr 1 Grupa 2\n",
      "[2, 3] [2, 0]\n",
      "Kierunek matematyka stosowana Semestr 2 Grupa 2\n",
      "[0, 0] [1, 4]\n",
      "drawed class bef: Analiza_matematyczna_II_practicals_1_grp_2, B9-52, Wojciech Kryszewski, Day: 0, hour: 0\n",
      "drawed class af: Analiza_matematyczna_II_practicals_1_grp_2, B9-52, Wojciech Kryszewski, Day: 1, hour: 4\n",
      "Kierunek matematyka stosowana Semestr 1 Grupa 1\n",
      "[2, 1] [1, 1]\n",
      "Kierunek matematyka stosowana Semestr 1 Grupa 1\n",
      "[1, 4] [0, 0]\n",
      "drawed class bef: Technologie_informatyczne_I_laboratories_1_grp_1, B14-1.12, Daniel Arendt, Day: 0, hour: 0\n",
      "drawed class af: Technologie_informatyczne_I_laboratories_1_grp_1, B14-1.12, Daniel Arendt, Day: 1, hour: 4\n",
      "Kierunek matematyka stosowana Semestr 2 Grupa 1\n",
      "[2, 1] [3, 1]\n",
      "Kierunek matematyka stosowana Semestr 1 Grupa 2\n",
      "[0, 2] [4, 1]\n",
      "Kierunek matematyka stosowana Semestr 1 Grupa 1\n",
      "[4, 1] [3, 2]\n",
      "drawed class bef: Algebra_liniowa_z_geometrią_analityczną_I_practicals_1_grp_1, B9-F3, Filip Strobin, Day: 4, hour: 1\n",
      "drawed class af: Algebra_liniowa_z_geometrią_analityczną_I_practicals_1_grp_1, B9-F3, Filip Strobin, Day: 3, hour: 2\n",
      "Kierunek matematyka stosowana Semestr 1 Grupa 1\n",
      "[1, 2] [2, 3]\n",
      "Kierunek matematyka stosowana Semestr 1 Grupa 2\n",
      "[3, 5] [4, 2]\n",
      "Kierunek matematyka stosowana Semestr 2 Grupa 2\n",
      "[1, 4] [0, 2]\n",
      "drawed class bef: Analiza_matematyczna_II_practicals_1_grp_2, B9-52, Wojciech Kryszewski, Day: 1, hour: 4\n",
      "drawed other bef: Algebra_liniowa_z_geometrią_analityczną_II_practicals_1_grp_2, B9-F3, Bogdan Balcerzak, Day: 0, hour: 2\n",
      "drawed other af: Algebra_liniowa_z_geometrią_analityczną_II_practicals_1_grp_2, B9-F3, Bogdan Balcerzak, Day: 1, hour: 4\n",
      "drawed class af: Analiza_matematyczna_II_practicals_1_grp_2, B9-52, Wojciech Kryszewski, Day: 0, hour: 2\n"
     ]
    }
   ],
   "source": [
    "while 1 not in pop1.get_fitnesses():\n",
    "    pop1.mutation_swap_classes()"
   ]
  }
 ],
 "metadata": {
  "kernelspec": {
   "display_name": ".venv",
   "language": "python",
   "name": "python3"
  },
  "language_info": {
   "codemirror_mode": {
    "name": "ipython",
    "version": 3
   },
   "file_extension": ".py",
   "mimetype": "text/x-python",
   "name": "python",
   "nbconvert_exporter": "python",
   "pygments_lexer": "ipython3",
   "version": "3.11.6"
  }
 },
 "nbformat": 4,
 "nbformat_minor": 2
}

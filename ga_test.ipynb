{
 "cells": [
  {
   "cell_type": "code",
   "execution_count": 1,
   "metadata": {},
   "outputs": [],
   "source": [
    "from backend.genetic_algorithm import *"
   ]
  },
  {
   "cell_type": "code",
   "execution_count": 2,
   "metadata": {},
   "outputs": [],
   "source": [
    "rooms = [\n",
    "    Room(\"B9-F1\", 60, \"normal\"),\n",
    "    Room(\"B9-F2\", 60, \"normal\"),\n",
    "    Room(\"B9-F3\", 60, \"normal\"),\n",
    "    Room(\"B9-F4\", 60, \"normal\"),\n",
    "    Room(\"B9-F5\", 60, \"normal\"),\n",
    "    Room(\"B9-F6\", 30, \"normal\"),\n",
    "    Room(\"B9-F7\", 60, \"normal\"),\n",
    "    Room(\"B9-F8\", 60, \"normal\"),\n",
    "    Room(\"B9-F9\", 60, \"normal\"),\n",
    "    Room(\"B9-F10\", 150, \"normal\"),\n",
    "    Room(\"B9-51\", 30, \"laboratories\"),\n",
    "    Room(\"B9-52\", 60, \"normal\"),\n",
    "    Room(\"B9-53\", 30, \"laboratories\"),\n",
    "    Room(\"B14-1.11\", 60, \"normal\"),\n",
    "    Room(\"B14-1.12\", 30, \"laboratories\"),\n",
    "    Room(\"B14-2.1\", 30, \"laboratories\"),\n",
    "    Room(\"B14-2.2\", 30, \"laboratories\"),\n",
    "    Room(\"B14-2.3\", 30, \"laboratories\"),\n",
    "]\n",
    "\n",
    "program = Data(\"program.xlsx\")\n",
    "\n",
    "professors = program.create_professors()\n",
    "\n",
    "courses = program.create_courses(professors)\n",
    "\n",
    "MS_sem_1_gr_1 = Students(0, 1, 1, \"matematyka stosowana\")\n",
    "MS_sem_1_gr_2 = Students(1, 1, 2, \"matematyka stosowana\")\n",
    "MS_sem_2_gr_1 = Students(2, 2, 1, \"matematyka stosowana\")\n",
    "MS_sem_2_gr_2 = Students(3, 2, 2, \"matematyka stosowana\")\n",
    "MS_sem_3_gr_1 = Students(4, 3, 1, \"matematyka stosowana\")\n",
    "MS_sem_3_gr_2 = Students(5, 3, 2, \"matematyka stosowana\")\n",
    "MS_sem_4_gr_1 = Students(6, 4, 1, \"matematyka stosowana\")\n",
    "MS_sem_4_gr_2 = Students(7, 4, 2, \"matematyka stosowana\")\n",
    "MS_sem_5_gr_1 = Students(8, 5, 1, \"matematyka stosowana\")\n",
    "MS_sem_6_gr_1 = Students(9, 6, 1, \"matematyka stosowana\")\n",
    "students = [\n",
    "    MS_sem_1_gr_1, MS_sem_1_gr_2, MS_sem_2_gr_1, MS_sem_2_gr_2,\n",
    "    MS_sem_3_gr_1, MS_sem_3_gr_2, MS_sem_4_gr_1, MS_sem_4_gr_2,\n",
    "    MS_sem_5_gr_1, MS_sem_6_gr_1, \n",
    "]"
   ]
  },
  {
   "cell_type": "code",
   "execution_count": 3,
   "metadata": {},
   "outputs": [],
   "source": [
    "pop1 = Population(6, professors, courses, rooms, students, 0.5, 2)"
   ]
  },
  {
   "cell_type": "code",
   "execution_count": 5,
   "metadata": {},
   "outputs": [],
   "source": [
    "pop1.population[0].visualize_groups(\"plan_dla_studentow\")"
   ]
  }
 ],
 "metadata": {
  "kernelspec": {
   "display_name": ".venv",
   "language": "python",
   "name": "python3"
  },
  "language_info": {
   "codemirror_mode": {
    "name": "ipython",
    "version": 3
   },
   "file_extension": ".py",
   "mimetype": "text/x-python",
   "name": "python",
   "nbconvert_exporter": "python",
   "pygments_lexer": "ipython3",
   "version": "3.11.6"
  }
 },
 "nbformat": 4,
 "nbformat_minor": 2
}

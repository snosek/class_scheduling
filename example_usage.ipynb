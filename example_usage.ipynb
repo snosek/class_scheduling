{
 "cells": [
  {
   "cell_type": "code",
   "execution_count": 47,
   "metadata": {},
   "outputs": [],
   "source": [
    "from backend.schedule import *\n",
    "from backend.genetic_algorithm import *"
   ]
  },
  {
   "cell_type": "code",
   "execution_count": 48,
   "metadata": {},
   "outputs": [],
   "source": [
    "MS_sem_1_gr_1 = Students(0,1, 1, \"matematyka stosowana\")\n",
    "MS_sem_1_gr_2 = Students(1,1, 2, \"matematyka stosowana\")\n",
    "MS = [MS_sem_1_gr_1, MS_sem_1_gr_2]"
   ]
  },
  {
   "cell_type": "code",
   "execution_count": 49,
   "metadata": {},
   "outputs": [],
   "source": [
    "rooms = [\n",
    "    Room(\"B9-F3\", 60, \"normal\"),\n",
    "    Room(\"B9-F6\", 30, \"normal\"),\n",
    "    Room(\"B9-51\", 30, \"laboratories\"),\n",
    "    Room(\"B9-52\", 60, \"normal\"),\n",
    "    Room(\"B9-53\", 30, \"laboratories\"),\n",
    "    Room(\"B14-1.12\", 30, \"laboratories\"),\n",
    "]"
   ]
  },
  {
   "cell_type": "code",
   "execution_count": 50,
   "metadata": {},
   "outputs": [],
   "source": [
    "program = Data(\"example_program.xlsx\")"
   ]
  },
  {
   "cell_type": "code",
   "execution_count": 51,
   "metadata": {},
   "outputs": [],
   "source": [
    "professors = program.create_professors()\n",
    "courses = program.create_courses(professors)"
   ]
  },
  {
   "cell_type": "code",
   "execution_count": 52,
   "metadata": {},
   "outputs": [
    {
     "name": "stdout",
     "output_type": "stream",
     "text": [
      "Imię i nazwisko 1-ego pofesora: Włodzimierz Fechner\n",
      "Imię i nazwisko 2-ego pofesora: Bogdan Balcerzak\n",
      "Imię i nazwisko 3-ego pofesora: Henryk Dębiński\n",
      "Imię i nazwisko 4-ego pofesora: Filip Strobin\n",
      "Imię i nazwisko 5-ego pofesora: Szymon Głąb\n",
      "Imię i nazwisko 6-ego pofesora: Michał Karbowańczyk\n",
      "Imię i nazwisko 7-ego pofesora: Marek Galewski\n",
      "Imię i nazwisko 8-ego pofesora: Marek Bienias\n",
      "Imię i nazwisko 9-ego pofesora: Wojciech Kryszewski\n",
      "Imię i nazwisko 10-ego pofesora: Błażej Dziuba\n",
      "Imię i nazwisko 11-ego pofesora: Roman Krasiukianis\n",
      "Imię i nazwisko 12-ego pofesora: Jacek Rogowski\n"
     ]
    }
   ],
   "source": [
    "for i, prof in enumerate(professors):\n",
    "    print(f\"Imię i nazwisko {i+1}-ego pofesora: {prof}\")"
   ]
  },
  {
   "cell_type": "code",
   "execution_count": 53,
   "metadata": {},
   "outputs": [
    {
     "name": "stdout",
     "output_type": "stream",
     "text": [
      "Nazwa 1-ego utworzonego kursu: Analiza_matematyczna_I\n",
      "Nazwa 2-ego utworzonego kursu: Algebra_liniowa_z_geometrią_analityczną_I\n",
      "Nazwa 3-ego utworzonego kursu: Technologie_informatyczne_I\n",
      "Nazwa 4-ego utworzonego kursu: Wstęp_do_obliczeń_symbolicznych\n",
      "Nazwa 5-ego utworzonego kursu: Wstęp_do_logiki_i_teorii_mnogości\n"
     ]
    }
   ],
   "source": [
    "for i, course in enumerate(courses):\n",
    "    print(f\"Nazwa {i+1}-ego utworzonego kursu: {course}\")"
   ]
  },
  {
   "cell_type": "code",
   "execution_count": 54,
   "metadata": {},
   "outputs": [],
   "source": [
    "example_schedule = Schedule(professors, courses, rooms, MS)"
   ]
  },
  {
   "cell_type": "code",
   "execution_count": 55,
   "metadata": {},
   "outputs": [
    {
     "name": "stdout",
     "output_type": "stream",
     "text": [
      "1 utworzone zajęcia: Analiza_matematyczna_I_lecture_1, None, Wojciech Kryszewski, None\n",
      "2 utworzone zajęcia: Analiza_matematyczna_I_lecture_2, None, Wojciech Kryszewski, None\n",
      "3 utworzone zajęcia: Analiza_matematyczna_I_practicals_1_grp_1, None, Włodzimierz Fechner, None\n",
      "4 utworzone zajęcia: Analiza_matematyczna_I_practicals_2_grp_1, None, Włodzimierz Fechner, None\n",
      "5 utworzone zajęcia: Analiza_matematyczna_I_practicals_1_grp_2, None, Marek Galewski, None\n",
      "6 utworzone zajęcia: Analiza_matematyczna_I_practicals_2_grp_2, None, Marek Galewski, None\n",
      "7 utworzone zajęcia: Algebra_liniowa_z_geometrią_analityczną_I_lecture_1, None, Filip Strobin, None\n",
      "8 utworzone zajęcia: Algebra_liniowa_z_geometrią_analityczną_I_practicals_1_grp_1, None, Bogdan Balcerzak, None\n",
      "9 utworzone zajęcia: Algebra_liniowa_z_geometrią_analityczną_I_practicals_1_grp_2, None, Filip Strobin, None\n",
      "10 utworzone zajęcia: Technologie_informatyczne_I_laboratories_1_grp_1, None, Błażej Dziuba, None\n",
      "11 utworzone zajęcia: Technologie_informatyczne_I_laboratories_1_grp_2, None, Roman Krasiukianis, None\n",
      "12 utworzone zajęcia: Wstęp_do_obliczeń_symbolicznych_laboratories_1_grp_1, None, Henryk Dębiński, None\n",
      "13 utworzone zajęcia: Wstęp_do_obliczeń_symbolicznych_laboratories_1_grp_2, None, Jacek Rogowski, None\n",
      "14 utworzone zajęcia: Wstęp_do_logiki_i_teorii_mnogości_lecture_1, None, Szymon Głąb, None\n",
      "15 utworzone zajęcia: Wstęp_do_logiki_i_teorii_mnogości_practicals_1_grp_1, None, Szymon Głąb, None\n",
      "16 utworzone zajęcia: Wstęp_do_logiki_i_teorii_mnogości_practicals_1_grp_2, None, Marek Bienias, None\n"
     ]
    }
   ],
   "source": [
    "for i, class_ in enumerate(example_schedule.classes):\n",
    "    print(f\"{i+1} utworzone zajęcia: {class_}\")"
   ]
  },
  {
   "cell_type": "code",
   "execution_count": 56,
   "metadata": {},
   "outputs": [],
   "source": [
    "example_schedule.random_schedule()"
   ]
  },
  {
   "cell_type": "code",
   "execution_count": 57,
   "metadata": {},
   "outputs": [],
   "source": [
    "example_schedule.calculate_and_set_number_of_conflicts()\n",
    "example_schedule.calculate_and_set_number_of_course_conflicts()\n",
    "example_schedule.calculate_and_set_number_of_early_and_late_hours()\n",
    "example_schedule.calculate_and_set_number_of_free_days()\n",
    "example_schedule.calculate_and_set_number_of_free_periods()"
   ]
  },
  {
   "cell_type": "code",
   "execution_count": 58,
   "metadata": {},
   "outputs": [
    {
     "name": "stdout",
     "output_type": "stream",
     "text": [
      "Ilość konfliktów: 2\n",
      "Ilość podwojonych zajęć: 2\n",
      "Ilość wczesnych zajęć: 2\n",
      "Ilość późnych zajęć: 7\n",
      "Ilość dni wolnych: 1\n",
      "Ilość okienek: 5\n",
      "Sumaryczna długość okienek: 6\n",
      "\n"
     ]
    }
   ],
   "source": [
    "print(f\"\"\"Ilość konfliktów: {example_schedule.number_of_conflicts}\n",
    "Ilość podwojonych zajęć: {example_schedule.number_of_course_conflicts}\n",
    "Ilość wczesnych zajęć: {example_schedule.number_of_early_hours}\n",
    "Ilość późnych zajęć: {example_schedule.number_of_late_hours}\n",
    "Ilość dni wolnych: {example_schedule.number_of_free_days}\n",
    "Ilość okienek: {example_schedule.number_of_free_periods}\n",
    "Sumaryczna długość okienek: {example_schedule.length_of_free_periods}\n",
    "\"\"\")"
   ]
  },
  {
   "cell_type": "code",
   "execution_count": 59,
   "metadata": {},
   "outputs": [],
   "source": [
    "example_schedule.visualize_groups(\"example_students_schedule\")\n",
    "example_schedule.visualize_professors(\"example_professors_schedule\")\n",
    "example_schedule.visualize_rooms(\"example_rooms_schedule\")"
   ]
  }
 ],
 "metadata": {
  "kernelspec": {
   "display_name": "Python 3",
   "language": "python",
   "name": "python3"
  },
  "language_info": {
   "codemirror_mode": {
    "name": "ipython",
    "version": 3
   },
   "file_extension": ".py",
   "mimetype": "text/x-python",
   "name": "python",
   "nbconvert_exporter": "python",
   "pygments_lexer": "ipython3",
   "version": "3.12.1"
  }
 },
 "nbformat": 4,
 "nbformat_minor": 2
}
